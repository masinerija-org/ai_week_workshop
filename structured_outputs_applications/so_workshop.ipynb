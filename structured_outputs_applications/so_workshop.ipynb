{
 "cells": [
  {
   "cell_type": "markdown",
   "metadata": {},
   "source": [
    "# Structured Outputs with LLMs and its applications"
   ]
  },
  {
   "cell_type": "code",
   "execution_count": null,
   "metadata": {},
   "outputs": [],
   "source": [
    "!pip install -r requirements.txt"
   ]
  },
  {
   "cell_type": "markdown",
   "metadata": {},
   "source": [
    "To work with this notebook, please create a file called `api_keys` and define two variables there:\n",
    "\n",
    "```bash\n",
    "NEBIUS_API_KEY=\"<YOUR_API_KEY>\"\n",
    "OPENAI_API_KEY=\"<YOUR_API_KEY>\"\n",
    "```"
   ]
  },
  {
   "cell_type": "code",
   "execution_count": 1,
   "metadata": {},
   "outputs": [
    {
     "name": "stdout",
     "output_type": "stream",
     "text": [
      ".env file is loaded: True\n"
     ]
    }
   ],
   "source": [
    "from dotenv import load_dotenv\n",
    "\n",
    "print(f\".env file is loaded: {load_dotenv()}\")"
   ]
  },
  {
   "cell_type": "markdown",
   "metadata": {},
   "source": [
    "### Let's wrap some functions that will ease our futher work with the `completions` API"
   ]
  },
  {
   "cell_type": "code",
   "execution_count": 2,
   "metadata": {},
   "outputs": [],
   "source": [
    "import os\n",
    "import json\n",
    "from openai import OpenAI\n",
    "from openai.types.chat import ChatCompletion\n",
    "\n",
    "\n",
    "def parse_completion(completion: ChatCompletion) -> None:\n",
    "    output = completion.choices[0].message\n",
    "    if output.refusal:\n",
    "        # Handle refusal\n",
    "        raise RuntimeError(output.refusal)\n",
    "    elif output.content:\n",
    "        try:\n",
    "            output_json = json.loads(output.content)\n",
    "            return output_json\n",
    "        except Exception as e:\n",
    "            # Handle possible exceptions, e.g. invalid JSON\n",
    "            raise RuntimeError(e)"
   ]
  },
  {
   "cell_type": "markdown",
   "metadata": {},
   "source": [
    "# Intro to Structured Outputs\n",
    "\n",
    "**Structured Outputs (SO)** is a feature that ensures the model will always generate responses that adhere to your supplied JSON Schema, so you don't need to worry about the model omitting a required key, or hallucinating an invalid enum value.\n",
    "\n",
    "Some benefits of Structured Outputs include:\n",
    "\n",
    "1. Reliable type-safety: No need to validate or retry incorrectly formatted responses\n",
    "2. Explicit refusals: Safety-based model refusals are now programmatically detectable\n",
    "3. Simpler prompting: No need for strongly worded prompts to achieve consistent formatting\n",
    "\n",
    "In addition to supporting JSON Schema in the REST API, the OpenAI SDKs for Python and JavaScript also make it easy to define object schemas using **Pydantic**"
   ]
  },
  {
   "cell_type": "markdown",
   "metadata": {},
   "source": [
    "# How does Sturctured Outputs work?\n",
    "\n",
    "When you ask an LLM to generate JSON, the standard token generation process changes to enforce adherence to JSON syntax.\n",
    " \n",
    "This is achieved through **constrained decoding**.\n",
    "Broadly speaking, constrained decoding is a class of methods to generate an output from LLMs that is guaranteed to follow a context-free grammar, regular expression, or JSON schema.\n",
    " \n",
    "There are many ways to implement constrained decoding mechanisms. Here, I will simplify things as much as possible using an article from .txt Engineering [Coalescence: making LLM inference 5x faster](https://blog.dottxt.co/coalescence.html)"
   ]
  },
  {
   "cell_type": "markdown",
   "metadata": {},
   "source": [
    "The basic method is straightforward. It works by filtering out tokens that don't fit the criteria during text generation. For instance, consider asking an LLM to produce a score ranging from one to five. Typically, the prompt is transformed into a series of tokens, which are essentially words or subwords. These tokens are processed by the LLM, which outputs a vector indicating the likelihood of each possible next token. The \"next token\" is then selected by sampling from this probability distribution. While it is likely to be \"1\", \"2\", \"3\", \"4\", or \"5\", there is no certainty.\n",
    " \n",
    "In contrast, constrained decoding involves creating a mask vector that assigns a one to each token that meets the constraint — such as \"1\", \"2\", \"3\", \"4\", and \"5\" in this case — and a zero to all other tokens. By performing an element-wise multiplication of the probability vector and the mask vector, followed by normalizing the resulting vector, a new probability distribution is formed. Sampling from this adjusted distribution ensures that the next token will adhere to the constraint.\n",
    " \n",
    "To get a visual clue, you can look at the example below [(image source)](https://blog.dataiku.com/your-guide-to-structured-text-generation\"):\n",
    "\n",
    "<img src=\"./images/constrained_decoding.png\" alt=\"Source: https://blog.dataiku.com/your-guide-to-structured-text-generation\" width=\"600\" height=\"400\">\n",
    " \n",
    "Here we ask the model to rate a draft answer on a scale from 1 to 5, so we can restrict the model's tokens during generation only to a set of [\"1\", \"2\", \"3\", \"4\", \"5\"], thus limiting the options to choose from."
   ]
  },
  {
   "cell_type": "markdown",
   "metadata": {},
   "source": [
    "## Structured Outputs: Toy Example\n",
    "\n",
    "To demostrate how to use Strucutred Outputs on practise, let's define a CalendarEvent object that includes a name, date, and a list of participants.\n",
    "\n",
    "Note that when using Pydantic to describe an object, we can explicitly specify that the name field is always a string type, and participants is a list of strings."
   ]
  },
  {
   "cell_type": "code",
   "execution_count": 3,
   "metadata": {},
   "outputs": [
    {
     "data": {
      "text/plain": [
       "{'properties': {'name': {'title': 'Name', 'type': 'string'},\n",
       "  'date': {'title': 'Date', 'type': 'string'},\n",
       "  'participants': {'items': {'type': 'string'},\n",
       "   'title': 'Participants',\n",
       "   'type': 'array'}},\n",
       " 'required': ['name', 'date', 'participants'],\n",
       " 'title': 'CalendarEvent',\n",
       " 'type': 'object'}"
      ]
     },
     "execution_count": 3,
     "metadata": {},
     "output_type": "execute_result"
    }
   ],
   "source": [
    "from pydantic import BaseModel\n",
    "\n",
    "\n",
    "class CalendarEvent(BaseModel):\n",
    "    name: str\n",
    "    date: str\n",
    "    participants: list[str]\n",
    "\n",
    "\n",
    "CalendarEvent.model_json_schema()"
   ]
  },
  {
   "cell_type": "markdown",
   "metadata": {},
   "source": [
    "Now, let's use vanilla generation to extract the desired data from the string: **\"Alice and Bob are going to a science fair on Friday.\"**"
   ]
  },
  {
   "cell_type": "code",
   "execution_count": 4,
   "metadata": {},
   "outputs": [
    {
     "name": "stdout",
     "output_type": "stream",
     "text": [
      "Regular chat completion response:\n",
      "**Date:** Friday  \n",
      "**Event Name:** Science Fair  \n",
      "**Participants:** Alice and Bob\n"
     ]
    }
   ],
   "source": [
    "import os\n",
    "from openai import OpenAI\n",
    "\n",
    "client = OpenAI(\n",
    "    base_url=\"https://api.studio.nebius.com/v1/\",\n",
    "    api_key=os.getenv(\"NEBIUS_API_KEY\"),\n",
    ")\n",
    "\n",
    "completion = client.chat.completions.create(\n",
    "    model=\"Qwen/Qwen2.5-32B-Instruct\",\n",
    "    messages=[\n",
    "        {\n",
    "            \"role\": \"system\",\n",
    "            \"content\": \"Extract the event information. Extract date, event name and participants.\",\n",
    "        },\n",
    "        {\n",
    "            \"role\": \"user\",\n",
    "            \"content\": \"Alice and Bob are going to a science fair on Friday.\",\n",
    "        },\n",
    "    ],\n",
    ")\n",
    "\n",
    "print(\"Regular chat completion response:\")\n",
    "print(completion.choices[0].message.content)"
   ]
  },
  {
   "cell_type": "code",
   "execution_count": 18,
   "metadata": {},
   "outputs": [
    {
     "name": "stdout",
     "output_type": "stream",
     "text": [
      "Regular chat completion response:\n",
      "**Date:** Friday  \n",
      "**Event Name:** Science Fair  \n",
      "**Participants:** Alice and Bob\n"
     ]
    }
   ],
   "source": [
    "import os\n",
    "from openai import OpenAI\n",
    "\n",
    "client = OpenAI(\n",
    "    base_url=\"https://api.studio.nebius.com/v1/\",\n",
    "    api_key=os.getenv(\"NEBIUS_API_KEY\"),\n",
    ")\n",
    "\n",
    "completion = client.chat.completions.create(\n",
    "    model=\"Qwen/Qwen2.5-32B-Instruct\",\n",
    "    messages=[\n",
    "        {\n",
    "            \"role\": \"system\",\n",
    "            \"content\": \"Extract the event information. Extract date, event name and participants.\",\n",
    "        },\n",
    "        {\n",
    "            \"role\": \"user\",\n",
    "            \"content\": \"Alice and Bob are going to a science fair on Friday.\",\n",
    "        },\n",
    "    ],\n",
    ")\n",
    "\n",
    "print(\"Regular chat completion response:\")\n",
    "print(completion.choices[0].message.content)"
   ]
  },
  {
   "cell_type": "markdown",
   "metadata": {},
   "source": [
    "As you can see, the model was able to perform the task twice, but each time the output format was different. Now, let's force the LLM to generate a valid JSON. To do this using the Nebius platform, you can provide your Pydantic object description using \"guided_json\" in the extra body parameters, as shown below:"
   ]
  },
  {
   "cell_type": "code",
   "execution_count": 19,
   "metadata": {},
   "outputs": [],
   "source": [
    "import os\n",
    "from openai import OpenAI\n",
    "\n",
    "client = OpenAI(\n",
    "    base_url=\"https://api.studio.nebius.com/v1/\",\n",
    "    api_key=os.getenv(\"NEBIUS_API_KEY\"),\n",
    ")\n",
    "\n",
    "completion = client.chat.completions.create(\n",
    "    model=\"Qwen/Qwen2.5-72B-Instruct\",\n",
    "    messages=[\n",
    "        {\"role\": \"system\", \"content\": \"Extract the event information.\"},\n",
    "        {\n",
    "            \"role\": \"user\",\n",
    "            \"content\": \"Alice and Bob are going to a science fair on Friday.\",\n",
    "        },\n",
    "    ],\n",
    "    extra_body={\"guided_json\": CalendarEvent.model_json_schema()},\n",
    ")"
   ]
  },
  {
   "cell_type": "code",
   "execution_count": 20,
   "metadata": {},
   "outputs": [
    {
     "name": "stdout",
     "output_type": "stream",
     "text": [
      "Generated JSON: {'name': 'Science Fair', 'date': 'Friday', 'participants': ['Alice', 'Bob']}\n",
      "\n",
      "CalendarEvent object\n",
      "event.name: Science Fair\n",
      "event.date: Friday\n",
      "event.participants: ['Alice', 'Bob']\n"
     ]
    }
   ],
   "source": [
    "print(f\"Generated JSON: {parse_completion(completion)}\\n\")\n",
    "\n",
    "event = CalendarEvent(**parse_completion(completion))\n",
    "\n",
    "# The response has been parsed into a CalendarEvent object, allowing us to access its properties in a type-safe way\n",
    "print(\"CalendarEvent object\")\n",
    "print(f\"event.name: {event.name}\")\n",
    "print(f\"event.date: {event.date}\")\n",
    "print(f\"event.participants: {event.participants}\")"
   ]
  },
  {
   "cell_type": "markdown",
   "metadata": {},
   "source": [
    "As demonstrated, the model's output is not only valid but can also be directly parsed using Pydantic, allowing the object to be utilized like a standard Python object.\n",
    "\n",
    "Finally, let's demonstrate this feature using OpenAI directly:"
   ]
  },
  {
   "cell_type": "code",
   "execution_count": 21,
   "metadata": {},
   "outputs": [
    {
     "data": {
      "text/plain": [
       "CalendarEvent(name='Science Fair', date='2023-10-06', participants=['Alice', 'Bob'])"
      ]
     },
     "execution_count": 21,
     "metadata": {},
     "output_type": "execute_result"
    }
   ],
   "source": [
    "import os\n",
    "from openai import OpenAI\n",
    "\n",
    "client = OpenAI(api_key=os.getenv(\"OPENAI_API_KEY\"))\n",
    "\n",
    "completion = client.chat.completions.parse(\n",
    "    model=\"gpt-4o-2024-08-06\",\n",
    "    messages=[\n",
    "        {\"role\": \"system\", \"content\": \"Extract the event information.\"},\n",
    "        {\n",
    "            \"role\": \"user\",\n",
    "            \"content\": \"Alice and Bob are going to a science fair on Friday.\",\n",
    "        },\n",
    "    ],\n",
    "    response_format=CalendarEvent,\n",
    ")\n",
    "\n",
    "event = completion.choices[0].message.parsed\n",
    "event"
   ]
  },
  {
   "cell_type": "markdown",
   "metadata": {},
   "source": [
    "## Pydantic"
   ]
  },
  {
   "cell_type": "markdown",
   "metadata": {},
   "source": [
    "Let's say a few words about Pydantic. \n",
    "\n",
    "**Pydantic** is a Python library for data validation and settings management based on Python's type hints. At its core, it allows you to define how data should be in a clear, Pythonic way.\n",
    "\n",
    "Think of it as a contract for your data. You define a \"shape\" for your data using a class, and Pydantic ensures that any incoming data conforms to that shape. If it doesn't, Pydantic raises clear, human-readable errors."
   ]
  },
  {
   "cell_type": "code",
   "execution_count": 24,
   "metadata": {},
   "outputs": [],
   "source": [
    "from pydantic import BaseModel\n",
    "from typing import List\n",
    "\n",
    "\n",
    "class User(BaseModel):\n",
    "    id: int\n",
    "    name: str = \"John Doe\"\n",
    "    friends: List[int] = []"
   ]
  },
  {
   "cell_type": "markdown",
   "metadata": {},
   "source": [
    "To execute the following code, please open terminal and write:\n",
    " \n",
    "```bash\n",
    "fastapi dev app.py\n",
    "```"
   ]
  },
  {
   "cell_type": "code",
   "execution_count": 25,
   "metadata": {},
   "outputs": [
    {
     "name": "stdout",
     "output_type": "stream",
     "text": [
      "id=1 name='Jane' friends=[2, 3]\n"
     ]
    }
   ],
   "source": [
    "import requests\n",
    "\n",
    "response = requests.get(\"http://127.0.0.1:8000/user/1\")\n",
    "user = User(**response.json())\n",
    "print(user)"
   ]
  },
  {
   "cell_type": "code",
   "execution_count": 26,
   "metadata": {},
   "outputs": [
    {
     "name": "stdout",
     "output_type": "stream",
     "text": [
      "3 validation errors for User\n",
      "id\n",
      "  Input should be a valid integer, unable to parse string as an integer [type=int_parsing, input_value='non-integer', input_type=str]\n",
      "    For further information visit https://errors.pydantic.dev/2.11/v/int_parsing\n",
      "name\n",
      "  Input should be a valid string [type=string_type, input_value=None, input_type=NoneType]\n",
      "    For further information visit https://errors.pydantic.dev/2.11/v/string_type\n",
      "friends\n",
      "  Input should be a valid list [type=list_type, input_value=None, input_type=NoneType]\n",
      "    For further information visit https://errors.pydantic.dev/2.11/v/list_type\n"
     ]
    }
   ],
   "source": [
    "response = requests.get(\"http://127.0.0.1:8000/user/4\")\n",
    "\n",
    "try:\n",
    "    User(**response.json())\n",
    "except Exception as e:\n",
    "    print(e)"
   ]
  },
  {
   "cell_type": "markdown",
   "metadata": {},
   "source": [
    "Okay, after this short into let's move to examples and learn how you can use it in your applications!"
   ]
  },
  {
   "cell_type": "markdown",
   "metadata": {},
   "source": [
    "# Example: Data Extraction\n",
    "\n",
    "Data Extraction is one of the obvious and easy-to-implement tasks, where you can apply Structured Outputs. You can define custom schemas for Invoices, Bank Statements, or any even more complex documents to extract values you need. \n",
    "\n",
    "Let's download datasets with invoices from HuggingFace."
   ]
  },
  {
   "cell_type": "code",
   "execution_count": 27,
   "metadata": {},
   "outputs": [],
   "source": [
    "from datasets import load_dataset\n",
    "\n",
    "dataset = load_dataset(\"mychen76/invoices-and-receipts_ocr_v1\")"
   ]
  },
  {
   "cell_type": "markdown",
   "metadata": {},
   "source": [
    "And open a couple of invoice examples to get a sense of the data we'll work with"
   ]
  },
  {
   "cell_type": "code",
   "execution_count": 28,
   "metadata": {},
   "outputs": [
    {
     "data": {
      "image/png": "[encoded data removed]",
      "text/plain": [
       "<Figure size 1000x1200 with 2 Axes>"
      ]
     },
     "metadata": {},
     "output_type": "display_data"
    }
   ],
   "source": [
    "from PIL import Image\n",
    "import matplotlib.pyplot as plt\n",
    "\n",
    "\n",
    "def display_images_vertically(image1: Image.Image, image2: Image.Image, figsize=(10, 12)):\n",
    "    \"\"\"\n",
    "    Display two PIL.Image objects separated vertically.\n",
    "\n",
    "    Args:\n",
    "        image1: First PIL.Image object\n",
    "        image2: Second PIL.Image object\n",
    "        figsize: Tuple specifying figure size (width, height)\n",
    "    \"\"\"\n",
    "    fig, axes = plt.subplots(1, 2, figsize=figsize)\n",
    "\n",
    "    # Remove axis ticks and labels\n",
    "    axes[0].axis(\"off\")\n",
    "    axes[1].axis(\"off\")\n",
    "\n",
    "    # Display the images\n",
    "    axes[0].imshow(image1)\n",
    "    axes[1].imshow(image2)\n",
    "\n",
    "    # Add some spacing between images\n",
    "    plt.subplots_adjust(hspace=0.1)\n",
    "\n",
    "    plt.tight_layout()\n",
    "    plt.show()\n",
    "\n",
    "\n",
    "# Display two images separated vertically using the new function\n",
    "display_images_vertically(\n",
    "    dataset[\"train\"][0][\"image\"].resize((600, 800)), dataset[\"train\"][1][\"image\"].resize((600, 800))\n",
    ")"
   ]
  },
  {
   "cell_type": "markdown",
   "metadata": {},
   "source": [
    "Great, we can see that invoice has the following fields:\n",
    "- Invoice number\n",
    "- Date of issue in DD/MM/YYYY format\n",
    "- Seller\n",
    "    - Name\n",
    "    - Address\n",
    "    - Tax Id\n",
    "    - IBAN\n",
    "- Client\n",
    "    - Name\n",
    "    - Address\n",
    "    - Tax Id\n",
    "- Items\n",
    "    - Number\n",
    "    - Description\n",
    "    - Quantity\n",
    "    - UM\n",
    "    - Net price\n",
    "    - Net worth\n",
    "    - VAT\n",
    "    - Gross worth\n",
    "- Summary\n",
    "    - Total\n",
    "    - Currency\n",
    "\n",
    "For a simple example let's define a simple flat structure, then we will move to a more complex structure that has nested objects"
   ]
  },
  {
   "cell_type": "code",
   "execution_count": 29,
   "metadata": {},
   "outputs": [],
   "source": [
    "import datetime\n",
    "from pydantic import BaseModel\n",
    "\n",
    "\n",
    "class Invoice(BaseModel):\n",
    "    invoice_number: str\n",
    "    invoice_date: datetime.datetime\n",
    "    seller: str\n",
    "    client: str\n",
    "    seller_tax_id: str\n",
    "    client_tax_id: str\n",
    "    iban: str\n",
    "    item: str"
   ]
  },
  {
   "cell_type": "markdown",
   "metadata": {},
   "source": [
    "To pass an image to our VLM model, let's encode it to base64"
   ]
  },
  {
   "cell_type": "code",
   "execution_count": 30,
   "metadata": {},
   "outputs": [],
   "source": [
    "import base64\n",
    "from io import BytesIO\n",
    "\n",
    "\n",
    "# Function to encode the image\n",
    "def encode_image(image):\n",
    "    # Convert PIL image to bytes\n",
    "    buffer = BytesIO()\n",
    "    image.save(buffer, format=\"JPEG\")  # or format=\"PNG\" if needed\n",
    "    image_bytes = buffer.getvalue()\n",
    "\n",
    "    # Encode to base64\n",
    "    return base64.b64encode(image_bytes).decode(\"utf-8\")\n",
    "\n",
    "\n",
    "base64_image = encode_image(dataset[\"train\"][0][\"image\"].resize((600, 800)))"
   ]
  },
  {
   "cell_type": "code",
   "execution_count": 31,
   "metadata": {},
   "outputs": [],
   "source": [
    "extraction_system_prompt = \"\"\"You are a helpful assistant for data extraction from invoices. \n",
    "You'll be given an invoice and your task is to exract data from it according to the JSON schema.\"\"\"\n",
    "\n",
    "extraction_generation_prompt = (\n",
    "    \"Please extract the invoice data from the attached image according to the provided JSON schema.\"\n",
    ")"
   ]
  },
  {
   "cell_type": "markdown",
   "metadata": {},
   "source": [
    "Add the schema to your request (`extra_body.guided_json`)"
   ]
  },
  {
   "cell_type": "code",
   "execution_count": 32,
   "metadata": {},
   "outputs": [],
   "source": [
    "from openai import OpenAI\n",
    "\n",
    "client = OpenAI(\n",
    "    base_url=\"https://api.studio.nebius.com/v1/\",\n",
    "    api_key=os.getenv(\"NEBIUS_API_KEY\"),\n",
    ")\n",
    "\n",
    "completion = client.chat.completions.create(\n",
    "    model=\"Qwen/Qwen2.5-VL-72B-Instruct\",\n",
    "    messages=[\n",
    "        {\"role\": \"system\", \"content\": extraction_system_prompt},\n",
    "        {\n",
    "            \"role\": \"user\",\n",
    "            \"content\": [\n",
    "                {\n",
    "                    \"type\": \"text\",\n",
    "                    \"text\": extraction_generation_prompt,\n",
    "                },\n",
    "                {\"type\": \"image_url\", \"image_url\": {\"url\": f\"data:image/jpeg;base64,{base64_image}\"}},\n",
    "            ],\n",
    "        },\n",
    "    ],\n",
    "    extra_body={\"guided_json\": Invoice.model_json_schema()},\n",
    ")"
   ]
  },
  {
   "cell_type": "code",
   "execution_count": 38,
   "metadata": {},
   "outputs": [
    {
     "name": "stdout",
     "output_type": "stream",
     "text": [
      "{'client': 'Jackson, Odonnell and Jackson',\n",
      " 'client_tax_id': '998-87-7723',\n",
      " 'iban': 'GB77WRBQ31965128414006',\n",
      " 'invoice_date': '2012-10-15T00:00:00Z',\n",
      " 'invoice_number': '40378170',\n",
      " 'item': \"Leed's Wine Companion Bottle Corkscrew Opener Gift Box Set with Foil \"\n",
      "         'Cutter',\n",
      " 'seller': 'Patel, Thompson and Montgomery',\n",
      " 'seller_tax_id': '958-74-3511'}\n"
     ]
    }
   ],
   "source": [
    "from pprint import pprint\n",
    "\n",
    "pprint(parse_completion(completion))"
   ]
  },
  {
   "cell_type": "markdown",
   "metadata": {},
   "source": [
    "Now, let's look at how we can create more complex structures using nested objects. \n",
    "As an example, let's describe an item object based on the data we've seen and add it to the Invoice model as a `list[Item]`:"
   ]
  },
  {
   "cell_type": "code",
   "execution_count": null,
   "metadata": {},
   "outputs": [],
   "source": [
    "import datetime\n",
    "from pydantic import BaseModel\n",
    "\n",
    "\n",
    "class Item(BaseModel):\n",
    "    number: int\n",
    "    description: str\n",
    "    quantity: int\n",
    "    unit_of_measure: str\n",
    "    net_price: float\n",
    "    net_worth: float\n",
    "    vat: float\n",
    "    gross_worth: float\n",
    "\n",
    "\n",
    "class Invoice(BaseModel):\n",
    "    invoice_number: str\n",
    "    invoice_date: datetime.datetime\n",
    "    seller: str\n",
    "    client: str\n",
    "    seller_tax_id: str\n",
    "    client_tax_id: str\n",
    "    iban: str\n",
    "    item: list[Item]"
   ]
  },
  {
   "cell_type": "code",
   "execution_count": 42,
   "metadata": {},
   "outputs": [
    {
     "name": "stdout",
     "output_type": "stream",
     "text": [
      "{'client': 'Rodriguez-Stevens',\n",
      " 'client_tax_id': '939-98-8477',\n",
      " 'iban': 'GB50ACIE59715038217063',\n",
      " 'invoice_date': '0906-06-20T00:00:00Z',\n",
      " 'invoice_number': '61356291',\n",
      " 'item': [{'description': 'Wine Glasses Goblets Pair Clear Glass',\n",
      "           'gross_worth': 66,\n",
      "           'net_price': 12,\n",
      "           'net_worth': 60,\n",
      "           'number': 1,\n",
      "           'quantity': 5,\n",
      "           'unit_of_measure': 'each',\n",
      "           'vat': 10},\n",
      "          {'description': 'With Hooks Stemware Storage Multiple Uses Iron Wine '\n",
      "                          'Rack Hanging Glass',\n",
      "           'gross_worth': 123.55,\n",
      "           'net_price': 28.08,\n",
      "           'net_worth': 112.32,\n",
      "           'number': 2,\n",
      "           'quantity': 4,\n",
      "           'unit_of_measure': 'each',\n",
      "           'vat': 10},\n",
      "          {'description': 'Replacement Corkscrew Parts Spiral Worm Wine Opener '\n",
      "                          'Bottle Houdini',\n",
      "           'gross_worth': 8.25,\n",
      "           'net_price': 7.5,\n",
      "           'net_worth': 7.5,\n",
      "           'number': 3,\n",
      "           'quantity': 1,\n",
      "           'unit_of_measure': 'each',\n",
      "           'vat': 10},\n",
      "          {'description': 'HOME ESSENTIALS GRADIENT STEMLESS WINE GLASSES SET '\n",
      "                          'OF 4 20 FL OZ (591 ml) NEW',\n",
      "           'gross_worth': 14.29,\n",
      "           'net_price': 12.99,\n",
      "           'net_worth': 12.99,\n",
      "           'number': 4,\n",
      "           'quantity': 1,\n",
      "           'unit_of_measure': 'each',\n",
      "           'vat': 10}],\n",
      " 'seller': 'Chapman, Kim and Green',\n",
      " 'seller_tax_id': '949-84-9105'}\n"
     ]
    }
   ],
   "source": [
    "from openai import OpenAI\n",
    "\n",
    "base64_image = encode_image(dataset[\"train\"][1][\"image\"].resize((600, 800)))\n",
    "\n",
    "client = OpenAI(\n",
    "    base_url=\"https://api.studio.nebius.com/v1/\",\n",
    "    api_key=os.getenv(\"NEBIUS_API_KEY\"),\n",
    ")\n",
    "\n",
    "completion = client.chat.completions.create(\n",
    "    model=\"Qwen/Qwen2.5-VL-72B-Instruct\",\n",
    "    messages=[\n",
    "        {\"role\": \"system\", \"content\": extraction_system_prompt},\n",
    "        {\n",
    "            \"role\": \"user\",\n",
    "            \"content\": [\n",
    "                {\n",
    "                    \"type\": \"text\",\n",
    "                    \"text\": extraction_generation_prompt,\n",
    "                },\n",
    "                {\"type\": \"image_url\", \"image_url\": {\"url\": f\"data:image/jpeg;base64,{base64_image}\"}},\n",
    "            ],\n",
    "        },\n",
    "    ],\n",
    "    extra_body={\"guided_json\": Invoice.model_json_schema()},\n",
    ")\n",
    "\n",
    "pprint(parse_completion(completion))"
   ]
  },
  {
   "cell_type": "markdown",
   "metadata": {},
   "source": [
    "In the code snippet above, the `item` field within the `Invoice` class has been successfully populated with a list of extracted `Item` objects"
   ]
  },
  {
   "cell_type": "markdown",
   "metadata": {},
   "source": [
    "# Example: RAG Metadata Generation"
   ]
  },
  {
   "cell_type": "markdown",
   "metadata": {},
   "source": [
    "In this section we will look at another application of **Structured Outputs** in a **Retrieval-Augmented Generation (RAG)** system, \n",
    "showcasing how to automatically generate metadata based on a user's query and utilize it to enhance document retrieval precision.\n",
    " \n",
    "We will use the **Haystack** framework for our RAG example due to its simplicity and flexibility. (I really like it, because it allows us to use individual components independently and easily integrate external elements without needing to fully embed our code within their system)"
   ]
  },
  {
   "cell_type": "markdown",
   "metadata": {},
   "source": [
    "## 1. Import Haystack components\n",
    "\n",
    "Let's import all needed Haystack components to build our pipeline"
   ]
  },
  {
   "cell_type": "code",
   "execution_count": 5,
   "metadata": {},
   "outputs": [
    {
     "name": "stderr",
     "output_type": "stream",
     "text": [
      "/Users/arsenijskunkov/Documents/Code/ai_week_workshop/.venv/lib/python3.11/site-packages/tqdm/auto.py:21: TqdmWarning: IProgress not found. Please update jupyter and ipywidgets. See https://ipywidgets.readthedocs.io/en/stable/user_install.html\n",
      "  from .autonotebook import tqdm as notebook_tqdm\n"
     ]
    }
   ],
   "source": [
    "from haystack import Pipeline\n",
    "from haystack.components.embedders import (\n",
    "    SentenceTransformersDocumentEmbedder,\n",
    "    SentenceTransformersTextEmbedder,\n",
    ")\n",
    "from haystack.components.retrievers.in_memory import InMemoryEmbeddingRetriever\n",
    "from haystack.components.writers import DocumentWriter\n",
    "from haystack.dataclasses import Document\n",
    "from haystack.document_stores.in_memory import InMemoryDocumentStore"
   ]
  },
  {
   "cell_type": "markdown",
   "metadata": {},
   "source": [
    "## 2. Prepare documents\n",
    "\n",
    "For our application, we will use some synthetic data. Specifically, I used GPT-o3 to scrap different websites (TechCrunch and OpenAI Research Blog) and collect the latest articles in the following format:\n",
    "\n",
    "```python\n",
    "Document(\n",
    "    content=\"Addendum to OpenAI o3 and o4-mini system card: OpenAI o3 Operator\",\n",
    "    meta={\n",
    "        \"date\": \"23-05-2025\",\n",
    "        \"source\": \"openai_blog\",\n",
    "        \"link\": \"https://openai.com/index/o3-o4-mini-system-card-addendum-operator-o3\",\n",
    "    },\n",
    ")\n",
    "```\n",
    "\n",
    "The document's content is just the article's title and some metadata, so let's create these document objects."
   ]
  },
  {
   "cell_type": "markdown",
   "metadata": {},
   "source": [
    "### TechCrunch Articles"
   ]
  },
  {
   "cell_type": "markdown",
   "metadata": {},
   "source": [
    "**Notice: The following data is generated via o3 by OpenAI, it can contain hallucinations, but it is not the case for this tutorial.**"
   ]
  },
  {
   "cell_type": "code",
   "execution_count": 2,
   "metadata": {},
   "outputs": [],
   "source": [
    "documents = [\n",
    "    # Data for May\n",
    "    Document(\n",
    "        content=\"Google quietly released an app that lets you download and run AI models locally\",\n",
    "        meta={\n",
    "            \"date\": \"31-05-2025\",\n",
    "            \"source\": \"tech_crunch\",\n",
    "            \"link\": \"https://techcrunch.com/2025/05/31/google-quietly-released-an-app-that-lets-you-download-and-run-ai-models-locally/\",\n",
    "        },\n",
    "    ),\n",
    "    Document(\n",
    "        content=\"Left-leaning influencers embrace Bluesky without abandoning X, Pew says\",\n",
    "        meta={\n",
    "            \"date\": \"31-05-2025\",\n",
    "            \"source\": \"tech_crunch\",\n",
    "            \"link\": \"https://techcrunch.com/2025/05/31/left-leaning-influencers-embrace-bluesky-without-abandoning-x-pew-says/\",\n",
    "        },\n",
    "    ),\n",
    "    Document(\n",
    "        content=\"NAACP calls on Memphis officials to halt operations at xAI’s ‘dirty data center’\",\n",
    "        meta={\n",
    "            \"date\": \"31-05-2025\",\n",
    "            \"source\": \"tech_crunch\",\n",
    "            \"link\": \"https://techcrunch.com/2025/05/31/naacp-calls-on-officials-to-halt-operations-at-xais-dirty-data-center-in-memphis/\",\n",
    "        },\n",
    "    ),\n",
    "    Document(\n",
    "        content=\"Report: Elon Musk’s drug use ramped up during the 2024 presidential campaign\",\n",
    "        meta={\n",
    "            \"date\": \"30-05-2025\",\n",
    "            \"source\": \"tech_crunch\",\n",
    "            \"link\": \"https://techcrunch.com/2025/05/30/report-elon-musks-drug-use-ramped-up-during-the-2024-presidential-campaign/\",\n",
    "        },\n",
    "    ),\n",
    "    Document(\n",
    "        content=\"It’s not your imagination: AI is speeding up the pace of change\",\n",
    "        meta={\n",
    "            \"date\": \"30-05-2025\",\n",
    "            \"source\": \"tech_crunch\",\n",
    "            \"link\": \"https://techcrunch.com/2025/05/30/its-not-your-imagination-ai-is-speeding-up-the-pace-of-change/\",\n",
    "        },\n",
    "    ),\n",
    "    Document(\n",
    "        content=(\n",
    "            \"TechCrunch Mobility: A ride-sharing pioneer comes for Uber, \"\n",
    "            \"Tesla loses more ground, and dog-like delivery robots land in Texas\"\n",
    "        ),\n",
    "        meta={\n",
    "            \"date\": \"30-05-2025\",\n",
    "            \"source\": \"tech_crunch\",\n",
    "            \"link\": \"https://techcrunch.com/2025/05/30/techcrunch-mobility-a-ride-sharing-pioneer-comes-for-uber-tesla-loses-more-ground-and-dog-like-delivery-robots-land-in-texas/\",\n",
    "        },\n",
    "    ),\n",
    "    Document(\n",
    "        content=\"Trump administration to claw back $3.7B in clean energy and manufacturing awards\",\n",
    "        meta={\n",
    "            \"date\": \"30-05-2025\",\n",
    "            \"source\": \"tech_crunch\",\n",
    "            \"link\": \"https://techcrunch.com/2025/05/30/trump-administration-to-claw-back-3-7b-in-clean-energy-and-manufacturing-awards/\",\n",
    "        },\n",
    "    ),\n",
    "    Document(\n",
    "        content=\"Automattic says it will start contributing to WordPress again after pause\",\n",
    "        meta={\n",
    "            \"date\": \"30-05-2025\",\n",
    "            \"source\": \"tech_crunch\",\n",
    "            \"link\": \"https://techcrunch.com/2025/05/30/automattic-says-it-will-start-contributing-to-wordpress-again-after-pause/\",\n",
    "        },\n",
    "    ),\n",
    "    Document(\n",
    "        content=\"Perplexity’s new tool can generate spreadsheets, dashboards, and more\",\n",
    "        meta={\n",
    "            \"date\": \"29-05-2025\",\n",
    "            \"source\": \"tech_crunch\",\n",
    "            \"link\": \"https://techcrunch.com/2025/05/29/perplexitys-new-tool-can-generate-spreadsheets-dashboards-and-more/\",\n",
    "        },\n",
    "    ),\n",
    "    Document(\n",
    "        content=\"Delaware attorney general reportedly hires a bank to evaluate OpenAI’s restructuring plan\",\n",
    "        meta={\n",
    "            \"date\": \"29-05-2025\",\n",
    "            \"source\": \"tech_crunch\",\n",
    "            \"link\": \"https://techcrunch.com/2025/05/29/delaware-attorney-general-reportedly-hires-a-bank-to-evaluate-openais-restructuring-plan/\",\n",
    "        },\n",
    "    ),\n",
    "    # Data for April\n",
    "    Document(\n",
    "        content=\"Microsoft’s most capable new Phi 4 AI model rivals the performance of far larger systems\",\n",
    "        meta={\n",
    "            \"date\": \"30-04-2025\",\n",
    "            \"source\": \"tech_crunch\",\n",
    "            \"link\": \"https://techcrunch.com/2025/04/30/microsofts-most-capable-new-phi-4-ai-model-rivals-the-performance-of-far-larger-systems/\",\n",
    "        },\n",
    "    ),\n",
    "    Document(\n",
    "        content=\"Sam Altman’s World unveils a mobile verification device\",\n",
    "        meta={\n",
    "            \"date\": \"30-04-2025\",\n",
    "            \"source\": \"tech_crunch\",\n",
    "            \"link\": \"https://techcrunch.com/2025/04/30/sam-altmans-world-unveils-a-mobile-verification-device/\",\n",
    "        },\n",
    "    ),\n",
    "    Document(\n",
    "        content=\"Epic Games just scored a major win against Apple\",\n",
    "        meta={\n",
    "            \"date\": \"30-04-2025\",\n",
    "            \"source\": \"tech_crunch\",\n",
    "            \"link\": \"https://techcrunch.com/2025/04/30/epic-games-just-scored-a-major-win-against-apple/\",\n",
    "        },\n",
    "    ),\n",
    "    Document(\n",
    "        content=\"Amazon launches Nova Premier, its most capable AI model yet\",\n",
    "        meta={\n",
    "            \"date\": \"30-04-2025\",\n",
    "            \"source\": \"tech_crunch\",\n",
    "            \"link\": \"https://techcrunch.com/2025/04/30/amazon-launches-nova-premier-its-largest-ai-model-yet/\",\n",
    "        },\n",
    "    ),\n",
    "    Document(\n",
    "        content=\"Meta forecasted it would make $1.4 T in revenue from generative AI by 2035\",\n",
    "        meta={\n",
    "            \"date\": \"30-04-2025\",\n",
    "            \"source\": \"tech_crunch\",\n",
    "            \"link\": \"https://techcrunch.com/2025/04/30/meta-forecasted-it-would-make-1-4t-in-revenue-from-generative-ai-by-2035/\",\n",
    "        },\n",
    "    ),\n",
    "    Document(\n",
    "        content=\"Google’s Gemini chatbot gets upgraded image-creation tools\",\n",
    "        meta={\n",
    "            \"date\": \"30-04-2025\",\n",
    "            \"source\": \"tech_crunch\",\n",
    "            \"link\": \"https://techcrunch.com/2025/04/30/googles-gemini-chatbot-gets-upgraded-image-creation-tools/\",\n",
    "        },\n",
    "    ),\n",
    "    Document(\n",
    "        content=\"Visa and Mastercard unveil AI-powered shopping\",\n",
    "        meta={\n",
    "            \"date\": \"30-04-2025\",\n",
    "            \"source\": \"tech_crunch\",\n",
    "            \"link\": \"https://techcrunch.com/2025/04/30/visa-and-mastercard-unveil-ai-powered-shopping/\",\n",
    "        },\n",
    "    ),\n",
    "    Document(\n",
    "        content=\"Musk’s xAI Holdings is reportedly raising the second-largest private funding round ever\",\n",
    "        meta={\n",
    "            \"date\": \"25-04-2025\",\n",
    "            \"source\": \"tech_crunch\",\n",
    "            \"link\": \"https://techcrunch.com/2025/04/25/musks-xai-holdings-is-reportedly-raising-the-second-largest-private-funding-round-ever/\",\n",
    "        },\n",
    "    ),\n",
    "    Document(\n",
    "        content=\"Noxtua raises $92 M for its sovereign AI tuned for the German legal system\",\n",
    "        meta={\n",
    "            \"date\": \"22-04-2025\",\n",
    "            \"source\": \"tech_crunch\",\n",
    "            \"link\": \"https://techcrunch.com/2025/04/22/noxtua-raises-92m-for-its-sovereign-ai-tuned-for-the-german-legal-system/\",\n",
    "        },\n",
    "    ),\n",
    "    Document(\n",
    "        content=\"ChatGPT adoption skyrockets in India, but monetization may be trailing\",\n",
    "        meta={\n",
    "            \"date\": \"04-04-2025\",\n",
    "            \"source\": \"tech_crunch\",\n",
    "            \"link\": \"https://techcrunch.com/2025/04/04/chatgpt-adoption-skyrockets-in-india-but-monetization-may-be-trailing/\",\n",
    "        },\n",
    "    ),\n",
    "]"
   ]
  },
  {
   "cell_type": "markdown",
   "metadata": {},
   "source": [
    "### OpenAI Research Blog"
   ]
  },
  {
   "cell_type": "markdown",
   "metadata": {},
   "source": [
    "**Notice: The following data is generated via o3 by OpenAI, it can contain hallucinations, but it is not the case for this tutorial.**"
   ]
  },
  {
   "cell_type": "code",
   "execution_count": 3,
   "metadata": {},
   "outputs": [],
   "source": [
    "documents += [\n",
    "    Document(\n",
    "        content=\"Addendum to OpenAI o3 and o4-mini system card: OpenAI o3 Operator\",\n",
    "        meta={\n",
    "            \"date\": \"23-05-2025\",\n",
    "            \"source\": \"openai_blog\",\n",
    "            \"link\": \"https://openai.com/index/o3-o4-mini-system-card-addendum-operator-o3\",\n",
    "        },\n",
    "    ),  # :contentReference[oaicite:0]{index=0}\n",
    "    Document(\n",
    "        content=\"Introducing Codex\",\n",
    "        meta={\n",
    "            \"date\": \"16-05-2025\",\n",
    "            \"source\": \"openai_blog\",\n",
    "            \"link\": \"https://openai.com/index/introducing-codex/\",\n",
    "        },\n",
    "    ),  # :contentReference[oaicite:1]{index=1}\n",
    "    Document(\n",
    "        content=\"Addendum to o3 and o4-mini system card: Codex\",\n",
    "        meta={\n",
    "            \"date\": \"16-05-2025\",\n",
    "            \"source\": \"openai_blog\",\n",
    "            \"link\": \"https://openai.com/index/o3-o4-mini-codex-system-card-addendum/\",\n",
    "        },\n",
    "    ),  # :contentReference[oaicite:2]{index=2}\n",
    "    Document(\n",
    "        content=\"Introducing HealthBench\",\n",
    "        meta={\n",
    "            \"date\": \"12-05-2025\",\n",
    "            \"source\": \"openai_blog\",\n",
    "            \"link\": \"https://openai.com/index/healthbench/\",\n",
    "        },\n",
    "    ),  # :contentReference[oaicite:3]{index=3}\n",
    "    Document(\n",
    "        content=\"Thinking with images\",\n",
    "        meta={\n",
    "            \"date\": \"16-04-2025\",\n",
    "            \"source\": \"openai_blog\",\n",
    "            \"link\": \"https://openai.com/index/thinking-with-images/\",\n",
    "        },\n",
    "    ),  # :contentReference[oaicite:4]{index=4}\n",
    "    Document(\n",
    "        content=\"OpenAI o3 and o4-mini System Card\",\n",
    "        meta={\n",
    "            \"date\": \"16-04-2025\",\n",
    "            \"source\": \"openai_blog\",\n",
    "            \"link\": \"https://openai.com/index/o3-o4-mini-system-card/\",\n",
    "        },\n",
    "    ),  # :contentReference[oaicite:5]{index=5}\n",
    "    Document(\n",
    "        content=\"Introducing OpenAI o3 and o4-mini\",\n",
    "        meta={\n",
    "            \"date\": \"16-04-2025\",\n",
    "            \"source\": \"openai_blog\",\n",
    "            \"link\": \"https://openai.com/index/introducing-o3-and-o4-mini/\",\n",
    "        },\n",
    "    ),  # :contentReference[oaicite:6]{index=6}\n",
    "    Document(\n",
    "        content=\"Our updated Preparedness Framework\",\n",
    "        meta={\n",
    "            \"date\": \"15-04-2025\",\n",
    "            \"source\": \"openai_blog\",\n",
    "            \"link\": \"https://openai.com/index/updating-our-preparedness-framework/\",\n",
    "        },\n",
    "    ),  # :contentReference[oaicite:7]{index=7}\n",
    "    Document(\n",
    "        content=\"Introducing GPT-4.1 in the API\",\n",
    "        meta={\n",
    "            \"date\": \"14-04-2025\",\n",
    "            \"source\": \"openai_blog\",\n",
    "            \"link\": \"https://openai.com/index/gpt-4-1/\",\n",
    "        },\n",
    "    ),  # :contentReference[oaicite:8]{index=8}\n",
    "    Document(\n",
    "        content=\"BrowseComp: a benchmark for browsing agents\",\n",
    "        meta={\n",
    "            \"date\": \"10-04-2025\",\n",
    "            \"source\": \"openai_blog\",\n",
    "            \"link\": \"https://openai.com/index/browsecomp/\",\n",
    "        },\n",
    "    ),  # :contentReference[oaicite:9]{index=9}\n",
    "]"
   ]
  },
  {
   "cell_type": "markdown",
   "metadata": {},
   "source": [
    "## 3. Creating InMemoryDocumentStore"
   ]
  },
  {
   "cell_type": "markdown",
   "metadata": {},
   "source": [
    "Now, we will set up a document indexing pipeline using an in-memory document store and a sentence transformer embedder.\n",
    "It embeds documents into vector representations and writes them to the store, enabling efficient similarity search.\n",
    "The pipeline is then run to process and store the provided documents."
   ]
  },
  {
   "cell_type": "code",
   "execution_count": 4,
   "metadata": {},
   "outputs": [
    {
     "name": "stderr",
     "output_type": "stream",
     "text": [
      "Batches:   0%|          | 0/1 [00:00<?, ?it/s]/Users/arsenijskunkov/Documents/Code/ai_week_workshop/.venv/lib/python3.11/site-packages/torch/nn/modules/module.py:1762: FutureWarning: `encoder_attention_mask` is deprecated and will be removed in version 4.55.0 for `BertSdpaSelfAttention.forward`.\n",
      "  return forward_call(*args, **kwargs)\n",
      "Batches: 100%|██████████| 1/1 [00:00<00:00,  2.56it/s]\n"
     ]
    },
    {
     "data": {
      "text/plain": [
       "{'writer': {'documents_written': 30}}"
      ]
     },
     "execution_count": 4,
     "metadata": {},
     "output_type": "execute_result"
    }
   ],
   "source": [
    "document_store = InMemoryDocumentStore(embedding_similarity_function=\"cosine\")\n",
    "\n",
    "indexing_pipeline = Pipeline()\n",
    "indexing_pipeline.add_component(\n",
    "    \"embedder\",\n",
    "    SentenceTransformersDocumentEmbedder(model=\"sentence-transformers/all-MiniLM-L6-v2\"),\n",
    ")\n",
    "indexing_pipeline.add_component(\"writer\", DocumentWriter(document_store=document_store))\n",
    "indexing_pipeline.connect(\"embedder\", \"writer\")\n",
    "\n",
    "# Run the indexing pipeline\n",
    "indexing_pipeline.run({\"embedder\": {\"documents\": documents}})"
   ]
  },
  {
   "cell_type": "markdown",
   "metadata": {},
   "source": [
    "## 4. Define QueryMetadata Structure \n",
    "\n",
    "Now, let's define a `QueryMetadata` object using Pydantic.\n",
    "Note that each `Field` can have a default value and a description."
   ]
  },
  {
   "cell_type": "markdown",
   "metadata": {},
   "source": [
    "Additionally, we can restrict values by providing a finite list of acceptable values for each field. Since we have only two values for the `source` field in the metadata, we will guide the model to generate tokens only from this set of values."
   ]
  },
  {
   "cell_type": "code",
   "execution_count": 5,
   "metadata": {},
   "outputs": [],
   "source": [
    "from typing import Literal\n",
    "from pydantic import Field, BaseModel\n",
    "\n",
    "\n",
    "class QueryMetadata(BaseModel):\n",
    "    start_date: str = Field(\n",
    "        None,\n",
    "        description=(\n",
    "            \"The start date of a potential time range, extracted from the user's query. The format should be DD-MM-YYYY.\"\n",
    "        ),\n",
    "    )\n",
    "    end_date: str = Field(\n",
    "        description=(\n",
    "            \"The end date of a potential time range, extracted from the user's query. The format should be DD-MM-YYYY.\"\n",
    "        ),\n",
    "    )\n",
    "    source: Literal[\"tech_crunch\", \"openai_blog\"]"
   ]
  },
  {
   "cell_type": "code",
   "execution_count": 6,
   "metadata": {},
   "outputs": [],
   "source": [
    "metadata_system_prompt = \"\"\"\n",
    "You are an information extraction system that analyzes natural language queries and extracts metadata in a specific JSON format.\n",
    "\n",
    "Your task is to extract the following metadata fields:\n",
    "- start_date: string in \"DD-MM-YYYY\" format (e.g., \"01-01-2024\")\n",
    "- end_date: string in \"DD-MM-YYYY\" format (e.g., \"31-12-2024\")\n",
    "- source: one of [\"tech_crunch\", \"openai_blog\"]\n",
    "\n",
    "Rules:\n",
    "- If a field is not present in the query, set its value to null.\n",
    "- Use only the allowed values for 'source'.\n",
    "- Always return only a valid JSON object. Do not include any explanation or extra text.\n",
    "\"\"\"\n",
    "\n",
    "metadata_generation_prompt = \"User Query: {query}\\n\\nExtract the metadata as specified.\""
   ]
  },
  {
   "cell_type": "code",
   "execution_count": 33,
   "metadata": {},
   "outputs": [],
   "source": [
    "def generate_query_metadata(query: str) -> dict[str, any]:\n",
    "    completion = client.chat.completions.create(\n",
    "        model=\"Qwen/Qwen2.5-72B-Instruct\",\n",
    "        messages=[\n",
    "            {\"role\": \"system\", \"content\": metadata_system_prompt},\n",
    "            {\n",
    "                \"role\": \"user\",\n",
    "                \"content\": metadata_generation_prompt.format(query=query),\n",
    "            },\n",
    "        ],\n",
    "        temperature=0.0,\n",
    "        extra_body={\"guided_json\": QueryMetadata.model_json_schema()},\n",
    "    )\n",
    "\n",
    "    parsed_metadata = parse_completion(completion)\n",
    "\n",
    "    return parsed_metadata"
   ]
  },
  {
   "cell_type": "code",
   "execution_count": 34,
   "metadata": {},
   "outputs": [
    {
     "name": "stdout",
     "output_type": "stream",
     "text": [
      "User Query: Find me top 3 TechCrunch articles from April 2025\n",
      "\n",
      "Extract the metadata as specified.\n",
      "\n",
      "{'start_date': '01-04-2025', 'end_date': '30-04-2025', 'source': 'tech_crunch'}\n"
     ]
    }
   ],
   "source": [
    "query = \"Find me top 3 TechCrunch articles from April 2025\"\n",
    "\n",
    "print(metadata_generation_prompt.format(query=query) + \"\\n\")\n",
    "print(generate_query_metadata(query))"
   ]
  },
  {
   "cell_type": "markdown",
   "metadata": {},
   "source": [
    "## 5. Define the RAG Pipeline with Structured Output\n",
    "This is where we'll build the main pipeline that uses the LLM to generate\n",
    "structured metadata from the user's query and then uses that metadata to\n",
    "filter the documents during the search operation.\n",
    "\n",
    "The prompt template instructs the LLM to extract the metadata and provides\n",
    "the JSON schema for the output. This is crucial for getting the structured output."
   ]
  },
  {
   "cell_type": "markdown",
   "metadata": {},
   "source": [
    "### Prepare filters"
   ]
  },
  {
   "cell_type": "code",
   "execution_count": 35,
   "metadata": {},
   "outputs": [],
   "source": [
    "def prepare_filters(extracted_metadata: dict[str, any]):\n",
    "    filters = {}\n",
    "    conditions = []\n",
    "\n",
    "    if extracted_metadata[\"source\"]:\n",
    "        conditions.append(\n",
    "            {\n",
    "                \"field\": \"source\",\n",
    "                \"operator\": \"==\",\n",
    "                \"value\": extracted_metadata[\"source\"],\n",
    "            }\n",
    "        )\n",
    "\n",
    "    if extracted_metadata[\"start_date\"] and extracted_metadata[\"end_date\"]:\n",
    "        conditions.append(\n",
    "            {\n",
    "                \"field\": \"date\",\n",
    "                \"operator\": \">=\",\n",
    "                \"value\": extracted_metadata[\"start_date\"],\n",
    "            }\n",
    "        )\n",
    "        conditions.append(\n",
    "            {\n",
    "                \"field\": \"date\",\n",
    "                \"operator\": \"<=\",\n",
    "                \"value\": extracted_metadata[\"end_date\"],\n",
    "            }\n",
    "        )\n",
    "    elif extracted_metadata[\"start_date\"]:\n",
    "        conditions.append(\n",
    "            {\n",
    "                \"field\": \"date\",\n",
    "                \"operator\": \">=\",\n",
    "                \"value\": extracted_metadata[\"start_date\"],\n",
    "            }\n",
    "        )\n",
    "    elif extracted_metadata[\"end_date\"]:\n",
    "        conditions.append(\n",
    "            {\n",
    "                \"field\": \"date\",\n",
    "                \"operator\": \"<=\",\n",
    "                \"value\": extracted_metadata[\"end_date\"],\n",
    "            }\n",
    "        )\n",
    "\n",
    "    if conditions:\n",
    "        filters = {\"operator\": \"AND\", \"conditions\": conditions}\n",
    "\n",
    "    return filters"
   ]
  },
  {
   "cell_type": "markdown",
   "metadata": {},
   "source": [
    "### Pipeline"
   ]
  },
  {
   "cell_type": "code",
   "execution_count": 36,
   "metadata": {},
   "outputs": [],
   "source": [
    "def run_query(query: str):\n",
    "    \"\"\"\n",
    "    This function runs the RAG pipeline for a given query.\n",
    "    It first generates the structured metadata and then uses it to retrieve documents.\n",
    "    \"\"\"\n",
    "    print(f\"Running query: '{query}'\")\n",
    "\n",
    "    extracted_metadata = generate_query_metadata(query)\n",
    "\n",
    "    print(\"[1] Extracted Metadata:\\n\")\n",
    "    print(extracted_metadata)\n",
    "\n",
    "    print(\"2] Prepare Filters and Run Query:\\n\")\n",
    "    filters = prepare_filters(extracted_metadata=extracted_metadata)\n",
    "\n",
    "    text_embedder = SentenceTransformersTextEmbedder(model=\"sentence-transformers/all-MiniLM-L6-v2\")\n",
    "    retriever = InMemoryEmbeddingRetriever(document_store=document_store, top_k=3, filters=filters)\n",
    "\n",
    "    retrieval_pipeline = Pipeline()\n",
    "    retrieval_pipeline.add_component(\"text_embedder\", text_embedder)\n",
    "    retrieval_pipeline.add_component(\"retriever\", retriever)\n",
    "    retrieval_pipeline.connect(\"text_embedder.embedding\", \"retriever.query_embedding\")\n",
    "\n",
    "    retrieval_result = retrieval_pipeline.run({\"text_embedder\": {\"text\": query}})\n",
    "\n",
    "    print(\"\\n[3] Retrieved Documents:\")\n",
    "    for doc in retrieval_result[\"retriever\"][\"documents\"]:\n",
    "        print(f\"  - {doc.content} (Source: {doc.meta['source']}, \" f\"Date: {doc.meta['date']})\")"
   ]
  },
  {
   "cell_type": "code",
   "execution_count": 37,
   "metadata": {},
   "outputs": [
    {
     "name": "stdout",
     "output_type": "stream",
     "text": [
      "Running query: 'Find me 3 oldest TechCrunch articles from April 2025'\n",
      "[1] Extracted Metadata:\n",
      "\n",
      "{'start_date': '01-04-2025', 'end_date': '30-04-2025', 'source': 'tech_crunch'}\n",
      "2] Prepare Filters and Run Query:\n",
      "\n"
     ]
    },
    {
     "name": "stderr",
     "output_type": "stream",
     "text": [
      "Batches:   0%|          | 0/1 [00:00<?, ?it/s]/Users/arsenijskunkov/Documents/Code/ai_week_workshop/.venv/lib/python3.11/site-packages/torch/nn/modules/module.py:1762: FutureWarning: `encoder_attention_mask` is deprecated and will be removed in version 4.55.0 for `BertSdpaSelfAttention.forward`.\n",
      "  return forward_call(*args, **kwargs)\n",
      "Batches: 100%|██████████| 1/1 [00:00<00:00,  2.99it/s]"
     ]
    },
    {
     "name": "stdout",
     "output_type": "stream",
     "text": [
      "\n",
      "[3] Retrieved Documents:\n",
      "  - Meta forecasted it would make $1.4 T in revenue from generative AI by 2035 (Source: tech_crunch, Date: 30-04-2025)\n",
      "  - Microsoft’s most capable new Phi 4 AI model rivals the performance of far larger systems (Source: tech_crunch, Date: 30-04-2025)\n",
      "  - Amazon launches Nova Premier, its most capable AI model yet (Source: tech_crunch, Date: 30-04-2025)\n"
     ]
    },
    {
     "name": "stderr",
     "output_type": "stream",
     "text": [
      "\n"
     ]
    }
   ],
   "source": [
    "query = \"Find me 3 oldest TechCrunch articles from April 2025\"\n",
    "\n",
    "run_query(query)"
   ]
  },
  {
   "cell_type": "markdown",
   "metadata": {},
   "source": [
    "# Example: Structured Outputs & Custom CoT"
   ]
  },
  {
   "cell_type": "markdown",
   "metadata": {},
   "source": [
    "Finally, one of the best patterns I've seen and use quite often in my projects is **Chain Of Thought combined with Structured Outputs**. I learned about this pattern in a course by Rinat Abdullin (you can read his blog post about [Schema Guided Reasoning](https://abdullin.com/schema-guided-reasoning)). This approach leverages the Chain of Thought paradigm to guide the LLM’s reasoning along a predefined path, using Structured Outputs to enforce consistency and direction.\n",
    "\n",
    "Some benefits we get using this pattern are:\n",
    "1. Enhanced ability to trace, debug, and audit reasoning chains, providing greater transparency of the LLM's intermediate outputs.\n",
    "2. The capability to convert domain expertise into executable prompts.\n",
    "3. Improved reasoning capabilities for smaller and less advanced models.\n",
    "\n",
    "Let's see how it works with a simple example. We will use this approach to guide the model towards solving a simple equation.\n",
    "Each reasoning step will have an output and an explanation, and we will combine them into a list of steps that the LLM will use to generate reasoning about the problem:"
   ]
  },
  {
   "cell_type": "code",
   "execution_count": 7,
   "metadata": {},
   "outputs": [],
   "source": [
    "class Step(BaseModel):\n",
    "    explanation: str\n",
    "    output: str\n",
    "\n",
    "\n",
    "class MathReasoning(BaseModel):\n",
    "    steps: list[Step]\n",
    "    final_answer: str"
   ]
  },
  {
   "cell_type": "code",
   "execution_count": 8,
   "metadata": {},
   "outputs": [],
   "source": [
    "completion = client.chat.completions.create(\n",
    "    model=\"Qwen/Qwen2.5-72B-Instruct\",\n",
    "    messages=[\n",
    "        {\n",
    "            \"role\": \"user\",\n",
    "            \"content\": \"Solve the equation 8x + 7 = -23\",\n",
    "        },\n",
    "    ],\n",
    "    extra_body={\"guided_json\": MathReasoning.model_json_schema()},\n",
    ")\n",
    "\n",
    "answer = parse_completion(completion)"
   ]
  },
  {
   "cell_type": "markdown",
   "metadata": {},
   "source": [
    "When we print the output, we will be able to see how the model was thinking in a predefined way before generating an answer."
   ]
  },
  {
   "cell_type": "code",
   "execution_count": 9,
   "metadata": {},
   "outputs": [
    {
     "name": "stdout",
     "output_type": "stream",
     "text": [
      "{'final_answer': 'The solution to the equation 8x + 7 = -23 is x = -3.75.',\n",
      " 'steps': [{'explanation': 'To solve the equation, we first aim to isolate the '\n",
      "                           'variable x on one side of the equation. We can do '\n",
      "                           'this by performing the same operations on both '\n",
      "                           'sides of the equation to maintain equality.',\n",
      "            'output': 'Given the equation 8x + 7 = -23.'},\n",
      "           {'explanation': 'Subtract 7 from both sides of the equation to move '\n",
      "                           'the constant term to the right side.',\n",
      "            'output': '8x + 7 - 7 = -23 - 7'},\n",
      "           {'explanation': 'Simplify the left and right sides.',\n",
      "            'output': '8x = -30'},\n",
      "           {'explanation': 'Divide both sides by 8 to isolate x.',\n",
      "            'output': '8x / 8 = -30 / 8'},\n",
      "           {'explanation': 'Simplify to find the value of x.',\n",
      "            'output': 'x = -3.75'}]}\n"
     ]
    }
   ],
   "source": [
    "from pprint import pprint\n",
    "\n",
    "pprint(answer)"
   ]
  },
  {
   "cell_type": "markdown",
   "metadata": {},
   "source": [
    "Now, I want to show a more complex example inspired by a winning solution from the [RAG Enterprise Challenge](https://abdullin.com/ilya/how-to-build-best-rag/).\n",
    " \n",
    "We can apply the SO & CoT pattern to answer questions based on complex documents using intermediate reasoning.\n",
    "We will take the [How much do language models memorize?](https://arxiv.org/abs/2505.24832) article from arXiv as the document the LLM will answer about.\n",
    "\n",
    "We will first ask the LLM to fill the `step_by_step_analysis` field, then proceed to a reasoning summary and generate the final answer:"
   ]
  },
  {
   "cell_type": "code",
   "execution_count": 6,
   "metadata": {},
   "outputs": [],
   "source": [
    "from pydantic import Field, BaseModel\n",
    "from typing import List\n",
    "\n",
    "\n",
    "class AnswerSchema(BaseModel):\n",
    "    step_by_step_analysis: str = Field(\n",
    "        description=\"Detailed step-by-step analysis of the answer with at least 5 steps and at least 150 words. Always do this step exactly as prompted.\"\n",
    "    )\n",
    "\n",
    "    reasoning_summary: str = Field(\n",
    "        description=\"Concise summary of the step-by-step reasoning process. Around 50 words.\"\n",
    "    )\n",
    "\n",
    "    relevant_chunks: List[int] = Field(\n",
    "        description=\"\"\"\n",
    "            List of page chunks containing information directly used to answer the question. Include only:\n",
    "            - Chunk with direct answers or explicit statements\n",
    "            - Chunks with key information that strongly supports the answer\n",
    "            Do not include chunks with only tangentially related information or weak connections to the answer.\n",
    "            At least one chunk should be included in the list.\n",
    "        \"\"\"\n",
    "    )\n",
    "\n",
    "    final_answer: str"
   ]
  },
  {
   "cell_type": "markdown",
   "metadata": {},
   "source": [
    "Now we will split this long article into chunks and load into the vector database"
   ]
  },
  {
   "cell_type": "code",
   "execution_count": 7,
   "metadata": {},
   "outputs": [
    {
     "name": "stderr",
     "output_type": "stream",
     "text": [
      "No abbreviations file found for en. Using default abbreviations.\n",
      "Batches:   0%|          | 0/3 [00:00<?, ?it/s]/Users/arsenijskunkov/Documents/Code/ai_week_workshop/.venv/lib/python3.11/site-packages/torch/nn/modules/module.py:1762: FutureWarning: `encoder_attention_mask` is deprecated and will be removed in version 4.55.0 for `BertSdpaSelfAttention.forward`.\n",
      "  return forward_call(*args, **kwargs)\n",
      "Batches: 100%|██████████| 3/3 [00:00<00:00,  3.65it/s]\n"
     ]
    },
    {
     "data": {
      "text/plain": [
       "{'writer': {'documents_written': 71}}"
      ]
     },
     "execution_count": 7,
     "metadata": {},
     "output_type": "execute_result"
    }
   ],
   "source": [
    "from pathlib import Path\n",
    "from haystack import Pipeline\n",
    "from haystack.document_stores.in_memory import InMemoryDocumentStore\n",
    "from haystack.components.converters import HTMLToDocument\n",
    "from haystack.components.preprocessors import DocumentSplitter\n",
    "from haystack.components.writers import DocumentWriter\n",
    "\n",
    "document_store = InMemoryDocumentStore()\n",
    "\n",
    "pipeline = Pipeline()\n",
    "pipeline.add_component(\"converter\", HTMLToDocument())\n",
    "pipeline.add_component(\"splitter\", DocumentSplitter(split_by=\"sentence\", split_length=3))\n",
    "pipeline.add_component(\"embedder\", SentenceTransformersDocumentEmbedder(model=\"sentence-transformers/all-MiniLM-L6-v2\"))\n",
    "pipeline.add_component(\"writer\", DocumentWriter(document_store=document_store))\n",
    "pipeline.connect(\"converter\", \"splitter\")\n",
    "pipeline.connect(\"splitter\", \"embedder\")\n",
    "pipeline.connect(\"embedder\", \"writer\")\n",
    "\n",
    "pipeline.run({\"converter\": {\"sources\": [Path(\"./data/How much do language models memorize?.html\")]}})"
   ]
  },
  {
   "cell_type": "code",
   "execution_count": 8,
   "metadata": {},
   "outputs": [
    {
     "data": {
      "text/plain": [
       "<haystack.core.pipeline.pipeline.Pipeline object at 0x17f2a9b50>\n",
       "🚅 Components\n",
       "  - text_embedder: SentenceTransformersTextEmbedder\n",
       "  - retriever: InMemoryEmbeddingRetriever\n",
       "🛤️ Connections\n",
       "  - text_embedder.embedding -> retriever.query_embedding (List[float])"
      ]
     },
     "execution_count": 8,
     "metadata": {},
     "output_type": "execute_result"
    }
   ],
   "source": [
    "text_embedder = SentenceTransformersTextEmbedder(model=\"sentence-transformers/all-MiniLM-L6-v2\")\n",
    "retriever = InMemoryEmbeddingRetriever(document_store=document_store, top_k=10)\n",
    "\n",
    "retrieval_pipeline = Pipeline()\n",
    "retrieval_pipeline.add_component(\"text_embedder\", text_embedder)\n",
    "retrieval_pipeline.add_component(\"retriever\", retriever)\n",
    "retrieval_pipeline.connect(\"text_embedder.embedding\", \"retriever.query_embedding\")"
   ]
  },
  {
   "cell_type": "markdown",
   "metadata": {},
   "source": [
    "Now, we will retrieve chunks relevant to the query"
   ]
  },
  {
   "cell_type": "code",
   "execution_count": 9,
   "metadata": {},
   "outputs": [
    {
     "name": "stderr",
     "output_type": "stream",
     "text": [
      "Batches: 100%|██████████| 1/1 [00:00<00:00,  7.85it/s]\n"
     ]
    }
   ],
   "source": [
    "query = \"\"\"\n",
    "How do models define, measure, and differentiate between intended and unintended memorisation?\n",
    "\"\"\"\n",
    "\n",
    "retrieval_result = retrieval_pipeline.run({\"text_embedder\": {\"text\": query}})"
   ]
  },
  {
   "cell_type": "code",
   "execution_count": 20,
   "metadata": {},
   "outputs": [],
   "source": [
    "strs = \"\"\n",
    "\n",
    "for doc in retrieval_result[\"retriever\"][\"documents\"]:\n",
    "    strs += f\"Chunk: {doc.meta['split_id']}, Content:\\n{doc.content}\\n\\n\""
   ]
  },
  {
   "cell_type": "code",
   "execution_count": 21,
   "metadata": {},
   "outputs": [
    {
     "name": "stdout",
     "output_type": "stream",
     "text": [
      "Chunk: 27, Content:\n",
      "Hence, we can define unintended memorization as\n",
      "and then the generalization (or intended memorization) must be\n",
      "Now that we have defined our notions of intended and unintended memorization we turn our attention to practically measuring them. Let us first state a proposition that enables measurement of unintended memorization:\n",
      "Proposition 1 (Super-additivity of Unintended Memorization).\n",
      "Assume is a dataset of i.i.d. \n",
      "\n",
      "Chunk: 26, Content:\n",
      "To understand how much information about is stored in , we can use the notion of mutual information:\n",
      "Note that this captures all the information about that is stored in . As we discussed, we need our notion of memorization to account for generalization as well. So when measuring unintended memorization, we are only interested in the information that is present in , which is the uncertainty left in after fixing . \n",
      "\n",
      "Chunk: 18, Content:\n",
      "Our notion of unintended memorization must be distinct from intended memorization, which we refer to as generalization. For example, consider a language model trained on the sample: Q: What is ? A: 1267650600228229401496703205376. \n",
      "\n"
     ]
    }
   ],
   "source": [
    "for i in range(3):\n",
    "    print(strs.split(\"\\n\\n\")[i] + \"\\n\")"
   ]
  },
  {
   "cell_type": "markdown",
   "metadata": {},
   "source": [
    "And now we will combine our query with the extracted chunks to synthesize the answer that will be guided by our JSON scheme"
   ]
  },
  {
   "cell_type": "code",
   "execution_count": 25,
   "metadata": {},
   "outputs": [],
   "source": [
    "def generate_answer(query: str, context: str) -> dict[str, any]:\n",
    "    completion = client.chat.completions.create(\n",
    "        model=\"google/gemma-3-27b-it\",\n",
    "        messages=[\n",
    "            {\n",
    "                \"role\": \"user\",\n",
    "                \"content\": f\"Answer this question {query} based on these data points: {context}. Think before you answer.\",\n",
    "            },\n",
    "        ],\n",
    "        temperature=0.0,\n",
    "        extra_body={\"guided_json\": AnswerSchema.model_json_schema()},\n",
    "    )\n",
    "\n",
    "    parsed_answer = parse_completion(completion)\n",
    "\n",
    "    return parsed_answer"
   ]
  },
  {
   "cell_type": "code",
   "execution_count": 26,
   "metadata": {},
   "outputs": [],
   "source": [
    "query = \"\"\"\n",
    "How do models define, measure, and differentiate between intended and unintended memorisation?\n",
    "\"\"\"\n",
    "\n",
    "parsed_answer = generate_answer(query, strs)"
   ]
  },
  {
   "cell_type": "markdown",
   "metadata": {},
   "source": [
    "Finally, let's look at the reasoning steps and other fields from the final response"
   ]
  },
  {
   "cell_type": "code",
   "execution_count": 27,
   "metadata": {},
   "outputs": [
    {
     "data": {
      "text/plain": [
       "{'step_by_step_analysis': \"Here's a breakdown of how the provided text defines, measures, and differentiates between intended and unintended memorization in language models:\\n\\n**1. Definitions:**\\n\\n*   **Unintended Memorization:** This is defined as the information a model contains *about a specific dataset* it was trained on. It's essentially rote learning – the model has 'memorized' the training data itself.\\n*   **Intended Memorization (Generalization):** This is defined as the information a model contains about the *true data-generation process*.  This is what we *want* the model to learn – the underlying patterns and relationships in the data, allowing it to perform well on unseen data.\\n\\n**2. Measurement:**\\n\\n*   **Mutual Information:** The text introduces mutual information as a way to understand how much information about a dataset (x) is stored in a model (y). However, it clarifies that for *unintended* memorization, they are only interested in the information present in y that remains *after* accounting for x (the training data). This means they want to isolate the information specifically tied to the training set, not the general knowledge the model has acquired.\\n*   **Super-additivity of Unintended Memorization (Proposition 1):** The text states a proposition that enables the measurement of unintended memorization, but the details of the proposition itself are not provided in the given chunks.\\n*   **Limitations of Existing Methods:** The text critiques existing 'extraction-based' methods of measuring memorization. These methods focus on how easily a sample can be *elicited* from the model. The problem is they don't distinguish between memorizing the sample directly versus generalizing from it.  For example, a model might easily output a specific Q&A pair it was trained on, but that doesn't mean it understands the underlying concept.\\n\\n**3. Differentiation:**\\n\\n*   **Separation from Generalization:** A core goal is to *separate* memorization from generalization. The definitions are constructed to achieve this separation.\\n*   **Example:** The example of “Q: What is ? A: 1267650600228229401496703205376” illustrates the difference. A model might memorize this specific Q&A pair (unintended memorization), but that doesn't mean it understands what \",\n",
       " 'reasoning_summary': \"The text defines unintended memorization as information about a specific dataset and intended memorization (generalization) as information about the underlying data-generation process. Measurement involves using mutual information, focusing on the information remaining in the model after accounting for the training data, and a proposition about 'super-additivity'. The key differentiation lies in separating rote learning of the training data from learning the underlying patterns.\",\n",
       " 'relevant_chunks': [0, 17, 18, 21, 26, 27],\n",
       " 'final_answer': \"The models define unintended memorization as the information a model contains about a specific dataset, while intended memorization (generalization) is the information about the true data-generation process. They aim to measure unintended memorization using mutual information, focusing on the information remaining in the model after accounting for the training data, and a proposition about 'super-additivity'. Differentiation is achieved by separating rote learning of the training data from learning underlying patterns.\"}"
      ]
     },
     "execution_count": 27,
     "metadata": {},
     "output_type": "execute_result"
    }
   ],
   "source": [
    "parsed_answer"
   ]
  },
  {
   "cell_type": "code",
   "execution_count": 28,
   "metadata": {},
   "outputs": [
    {
     "name": "stdout",
     "output_type": "stream",
     "text": [
      "{   'final_answer': 'The models define unintended memorization as the '\n",
      "                    'information a model contains about a specific dataset, '\n",
      "                    'while intended memorization (generalization) is the '\n",
      "                    'information about the true data-generation process. They '\n",
      "                    'aim to measure unintended memorization using mutual '\n",
      "                    'information, focusing on the information remaining in the '\n",
      "                    'model after accounting for the training data, and a '\n",
      "                    \"proposition about 'super-additivity'. Differentiation is \"\n",
      "                    'achieved by separating rote learning of the training data '\n",
      "                    'from learning underlying patterns.',\n",
      "    'reasoning_summary': 'The text defines unintended memorization as '\n",
      "                         'information about a specific dataset and intended '\n",
      "                         'memorization (generalization) as information about '\n",
      "                         'the underlying data-generation process. Measurement '\n",
      "                         'involves using mutual information, focusing on the '\n",
      "                         'information remaining in the model after accounting '\n",
      "                         'for the training data, and a proposition about '\n",
      "                         \"'super-additivity'. The key differentiation lies in \"\n",
      "                         'separating rote learning of the training data from '\n",
      "                         'learning the underlying patterns.',\n",
      "    'relevant_chunks': [0, 17, 18, 21, 26, 27],\n",
      "    'step_by_step_analysis': \"Here's a breakdown of how the provided text \"\n",
      "                             'defines, measures, and differentiates between '\n",
      "                             'intended and unintended memorization in language '\n",
      "                             'models:\\n'\n",
      "                             '\\n'\n",
      "                             '**1. Definitions:**\\n'\n",
      "                             '\\n'\n",
      "                             '*   **Unintended Memorization:** This is defined '\n",
      "                             'as the information a model contains *about a '\n",
      "                             \"specific dataset* it was trained on. It's \"\n",
      "                             'essentially rote learning – the model has '\n",
      "                             \"'memorized' the training data itself.\\n\"\n",
      "                             '*   **Intended Memorization (Generalization):** '\n",
      "                             'This is defined as the information a model '\n",
      "                             'contains about the *true data-generation '\n",
      "                             'process*.  This is what we *want* the model to '\n",
      "                             'learn – the underlying patterns and '\n",
      "                             'relationships in the data, allowing it to '\n",
      "                             'perform well on unseen data.\\n'\n",
      "                             '\\n'\n",
      "                             '**2. Measurement:**\\n'\n",
      "                             '\\n'\n",
      "                             '*   **Mutual Information:** The text introduces '\n",
      "                             'mutual information as a way to understand how '\n",
      "                             'much information about a dataset (x) is stored '\n",
      "                             'in a model (y). However, it clarifies that for '\n",
      "                             '*unintended* memorization, they are only '\n",
      "                             'interested in the information present in y that '\n",
      "                             'remains *after* accounting for x (the training '\n",
      "                             'data). This means they want to isolate the '\n",
      "                             'information specifically tied to the training '\n",
      "                             'set, not the general knowledge the model has '\n",
      "                             'acquired.\\n'\n",
      "                             '*   **Super-additivity of Unintended '\n",
      "                             'Memorization (Proposition 1):** The text states '\n",
      "                             'a proposition that enables the measurement of '\n",
      "                             'unintended memorization, but the details of the '\n",
      "                             'proposition itself are not provided in the given '\n",
      "                             'chunks.\\n'\n",
      "                             '*   **Limitations of Existing Methods:** The '\n",
      "                             \"text critiques existing 'extraction-based' \"\n",
      "                             'methods of measuring memorization. These methods '\n",
      "                             'focus on how easily a sample can be *elicited* '\n",
      "                             \"from the model. The problem is they don't \"\n",
      "                             'distinguish between memorizing the sample '\n",
      "                             'directly versus generalizing from it.  For '\n",
      "                             'example, a model might easily output a specific '\n",
      "                             \"Q&A pair it was trained on, but that doesn't \"\n",
      "                             'mean it understands the underlying concept.\\n'\n",
      "                             '\\n'\n",
      "                             '**3. Differentiation:**\\n'\n",
      "                             '\\n'\n",
      "                             '*   **Separation from Generalization:** A core '\n",
      "                             'goal is to *separate* memorization from '\n",
      "                             'generalization. The definitions are constructed '\n",
      "                             'to achieve this separation.\\n'\n",
      "                             '*   **Example:** The example of “Q: What is ? A: '\n",
      "                             '1267650600228229401496703205376” illustrates the '\n",
      "                             'difference. A model might memorize this specific '\n",
      "                             'Q&A pair (unintended memorization), but that '\n",
      "                             \"doesn't mean it understands what \"}\n"
     ]
    }
   ],
   "source": [
    "from pprint import pprint\n",
    "\n",
    "pprint(parsed_answer, indent=4)"
   ]
  }
 ],
 "metadata": {
  "kernelspec": {
   "display_name": ".venv",
   "language": "python",
   "name": "python3"
  },
  "language_info": {
   "codemirror_mode": {
    "name": "ipython",
    "version": 3
   },
   "file_extension": ".py",
   "mimetype": "text/x-python",
   "name": "python",
   "nbconvert_exporter": "python",
   "pygments_lexer": "ipython3",
   "version": "3.11.10"
  }
 },
 "nbformat": 4,
 "nbformat_minor": 2
}
