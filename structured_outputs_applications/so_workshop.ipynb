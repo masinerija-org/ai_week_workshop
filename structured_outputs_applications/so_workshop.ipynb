{
 "cells": [
  {
   "cell_type": "code",
   "execution_count": 95,
   "metadata": {},
   "outputs": [
    {
     "name": "stdout",
     "output_type": "stream",
     "text": [
      ".env file is loaded: True\n"
     ]
    }
   ],
   "source": [
    "from dotenv import load_dotenv\n",
    "\n",
    "print(f\".env file is loaded: {load_dotenv()}\")"
   ]
  },
  {
   "cell_type": "markdown",
   "metadata": {},
   "source": [
    "# Intro to Structured Outputs\n",
    "\n",
    "**Structured Outputs (SO)** is a feature that ensures the model will always generate responses that adhere to your supplied JSON Schema, so you don't need to worry about the model omitting a required key, or hallucinating an invalid enum value.\n",
    "\n",
    "Some benefits of Structured Outputs include:\n",
    "\n",
    "1. Reliable type-safety: No need to validate or retry incorrectly formatted responses\n",
    "2. Explicit refusals: Safety-based model refusals are now programmatically detectable\n",
    "3. Simpler prompting: No need for strongly worded prompts to achieve consistent formatting\n",
    "\n",
    "In addition to supporting JSON Schema in the REST API, the OpenAI SDKs for Python and JavaScript also make it easy to define object schemas using **Pydantic**"
   ]
  },
  {
   "cell_type": "markdown",
   "metadata": {},
   "source": [
    "Invalid data that raises a helpful error"
   ]
  },
  {
   "cell_type": "markdown",
   "metadata": {},
   "source": [
    "## Structured Outputs: Toy Example"
   ]
  },
  {
   "cell_type": "code",
   "execution_count": 100,
   "metadata": {},
   "outputs": [],
   "source": [
    "import json\n",
    "from openai.types.chat import ChatCompletion\n",
    "\n",
    "\n",
    "def parse_completion(completion: ChatCompletion) -> None:\n",
    "    output = completion.choices[0].message\n",
    "    if output.refusal:\n",
    "        # Handle refusal\n",
    "        raise RuntimeError(output.refusal)\n",
    "    elif output.content:\n",
    "        try:\n",
    "            output_json = json.loads(output.content)\n",
    "            return output_json\n",
    "        except Exception as e:\n",
    "            # Handle possible exceptions, e.g. invalid JSON\n",
    "            raise RuntimeError(e)"
   ]
  },
  {
   "cell_type": "code",
   "execution_count": 98,
   "metadata": {},
   "outputs": [],
   "source": [
    "from pydantic import BaseModel\n",
    "\n",
    "\n",
    "class CalendarEvent(BaseModel):\n",
    "    name: str\n",
    "    date: str\n",
    "    participants: list[str]"
   ]
  },
  {
   "cell_type": "code",
   "execution_count": 99,
   "metadata": {},
   "outputs": [
    {
     "data": {
      "text/plain": [
       "{'properties': {'name': {'title': 'Name', 'type': 'string'},\n",
       "  'date': {'title': 'Date', 'type': 'string'},\n",
       "  'participants': {'items': {'type': 'string'},\n",
       "   'title': 'Participants',\n",
       "   'type': 'array'}},\n",
       " 'required': ['name', 'date', 'participants'],\n",
       " 'title': 'CalendarEvent',\n",
       " 'type': 'object'}"
      ]
     },
     "execution_count": 99,
     "metadata": {},
     "output_type": "execute_result"
    }
   ],
   "source": [
    "CalendarEvent.model_json_schema()"
   ]
  },
  {
   "cell_type": "code",
   "execution_count": 97,
   "metadata": {},
   "outputs": [
    {
     "name": "stdout",
     "output_type": "stream",
     "text": [
      "Event: Science Fair  \n",
      "Date: Friday  \n",
      "Participants: Alice and Bob\n"
     ]
    }
   ],
   "source": [
    "import os\n",
    "from openai import OpenAI\n",
    "\n",
    "client = OpenAI(\n",
    "    base_url=\"https://api.studio.nebius.com/v1/\",\n",
    "    api_key=os.getenv(\"NEBIUS_API_KEY\"),\n",
    ")\n",
    "\n",
    "completion = client.chat.completions.create(\n",
    "    model=\"Qwen/Qwen2.5-72B-Instruct\",\n",
    "    messages=[\n",
    "        {\"role\": \"system\", \"content\": \"Extract the event information.\"},\n",
    "        {\n",
    "            \"role\": \"user\",\n",
    "            \"content\": \"Alice and Bob are going to a science fair on Friday.\",\n",
    "        },\n",
    "    ],\n",
    ")\n",
    "\n",
    "print(completion.choices[0].message.content)"
   ]
  },
  {
   "cell_type": "code",
   "execution_count": 103,
   "metadata": {},
   "outputs": [],
   "source": [
    "import os\n",
    "from openai import OpenAI\n",
    "\n",
    "client = OpenAI(\n",
    "    base_url=\"https://api.studio.nebius.com/v1/\",\n",
    "    api_key=os.getenv(\"NEBIUS_API_KEY\"),\n",
    ")\n",
    "\n",
    "completion = client.chat.completions.create(\n",
    "    model=\"Qwen/Qwen2.5-72B-Instruct\",\n",
    "    messages=[\n",
    "        {\"role\": \"system\", \"content\": \"Extract the event information.\"},\n",
    "        {\n",
    "            \"role\": \"user\",\n",
    "            \"content\": \"Alice and Bob are going to a science fair on Friday.\",\n",
    "        },\n",
    "    ],\n",
    "    extra_body={\"guided_json\": CalendarEvent.model_json_schema()},\n",
    ")"
   ]
  },
  {
   "cell_type": "code",
   "execution_count": 104,
   "metadata": {},
   "outputs": [
    {
     "name": "stdout",
     "output_type": "stream",
     "text": [
      "{'name': 'Going to Science Fair', 'date': 'Friday', 'participants': ['Alice', 'Bob']}\n"
     ]
    }
   ],
   "source": [
    "print(parse_completion(completion))"
   ]
  },
  {
   "cell_type": "code",
   "execution_count": 105,
   "metadata": {},
   "outputs": [],
   "source": [
    "event = CalendarEvent(**parse_completion(completion))"
   ]
  },
  {
   "cell_type": "code",
   "execution_count": 109,
   "metadata": {},
   "outputs": [
    {
     "data": {
      "text/plain": [
       "'Friday'"
      ]
     },
     "execution_count": 109,
     "metadata": {},
     "output_type": "execute_result"
    }
   ],
   "source": [
    "event.date"
   ]
  },
  {
   "cell_type": "markdown",
   "metadata": {},
   "source": [
    "## Pydantic"
   ]
  },
  {
   "cell_type": "markdown",
   "metadata": {},
   "source": [
    "**Pydantic** is a Python library for data validation and settings management based on Python's type hints. At its core, it allows you to define how data should be in a clear, Pythonic way.\n",
    "\n",
    "Think of it as a contract for your data. You define a \"shape\" for your data using a class, and Pydantic ensures that any incoming data conforms to that shape. If it doesn't, Pydantic raises clear, human-readable errors."
   ]
  },
  {
   "cell_type": "code",
   "execution_count": 110,
   "metadata": {},
   "outputs": [],
   "source": [
    "from pydantic import BaseModel\n",
    "from typing import List\n",
    "\n",
    "\n",
    "class User(BaseModel):\n",
    "    id: int\n",
    "    name: str = \"John Doe\"\n",
    "    friends: List[int] = []"
   ]
  },
  {
   "cell_type": "code",
   "execution_count": 111,
   "metadata": {},
   "outputs": [
    {
     "name": "stdout",
     "output_type": "stream",
     "text": [
      "id=1 name='Jane' friends=[2, 3]\n"
     ]
    }
   ],
   "source": [
    "import requests\n",
    "\n",
    "response = requests.get(\"http://127.0.0.1:8000/user/1\")\n",
    "user = User(**response.json())\n",
    "print(user)"
   ]
  },
  {
   "cell_type": "code",
   "execution_count": 112,
   "metadata": {},
   "outputs": [
    {
     "name": "stdout",
     "output_type": "stream",
     "text": [
      "3 validation errors for User\n",
      "id\n",
      "  Input should be a valid integer, unable to parse string as an integer [type=int_parsing, input_value='non-integer', input_type=str]\n",
      "    For further information visit https://errors.pydantic.dev/2.11/v/int_parsing\n",
      "name\n",
      "  Input should be a valid string [type=string_type, input_value=None, input_type=NoneType]\n",
      "    For further information visit https://errors.pydantic.dev/2.11/v/string_type\n",
      "friends\n",
      "  Input should be a valid list [type=list_type, input_value=None, input_type=NoneType]\n",
      "    For further information visit https://errors.pydantic.dev/2.11/v/list_type\n"
     ]
    }
   ],
   "source": [
    "response = requests.get(\"http://127.0.0.1:8000/user/4\")\n",
    "\n",
    "try:\n",
    "    User(**response.json())\n",
    "except Exception as e:\n",
    "    print(e)"
   ]
  },
  {
   "cell_type": "markdown",
   "metadata": {},
   "source": [
    "# Structured Outputs for Data Extraction"
   ]
  },
  {
   "cell_type": "code",
   "execution_count": 48,
   "metadata": {},
   "outputs": [],
   "source": [
    "from datasets import load_dataset\n",
    "\n",
    "dataset = load_dataset(\"mychen76/invoices-and-receipts_ocr_v1\")"
   ]
  },
  {
   "cell_type": "code",
   "execution_count": 113,
   "metadata": {},
   "outputs": [
    {
     "data": {
      "image/jpeg": "[encoded data removed]",
      "image/png": "[encoded data removed]",
      "text/plain": [
       "<PIL.Image.Image image mode=RGB size=600x800>"
      ]
     },
     "metadata": {},
     "output_type": "display_data"
    }
   ],
   "source": [
    "from IPython.display import display\n",
    "\n",
    "display(dataset[\"train\"][0][\"image\"].resize((600, 800)))"
   ]
  },
  {
   "cell_type": "markdown",
   "metadata": {},
   "source": [
    "Define a schema using Pydantic's `BaseModel`"
   ]
  },
  {
   "cell_type": "code",
   "execution_count": 114,
   "metadata": {},
   "outputs": [],
   "source": [
    "import datetime\n",
    "\n",
    "\n",
    "class Item(BaseModel):\n",
    "    item_desc: str\n",
    "    item_qty: float\n",
    "    item_net_price: float\n",
    "    item_net_worth: float\n",
    "    item_vat: str\n",
    "    item_gross_worth: float\n",
    "\n",
    "\n",
    "class Invoice(BaseModel):\n",
    "    invoice_no: str\n",
    "    invoice_date: datetime.datetime\n",
    "    seller: str\n",
    "    client: str\n",
    "    seller_tax_id: str\n",
    "    client_tax_id: str\n",
    "    iban: str\n",
    "    items: List[Item]"
   ]
  },
  {
   "cell_type": "markdown",
   "metadata": {},
   "source": [
    "Add the schema to your request (`extra_body.guided_json`)"
   ]
  },
  {
   "cell_type": "code",
   "execution_count": 115,
   "metadata": {},
   "outputs": [],
   "source": [
    "import base64\n",
    "from io import BytesIO\n",
    "\n",
    "\n",
    "# Function to encode the image\n",
    "def encode_image(image):\n",
    "    # Convert PIL image to bytes\n",
    "    buffer = BytesIO()\n",
    "    image.save(buffer, format=\"JPEG\")  # or format=\"PNG\" if needed\n",
    "    image_bytes = buffer.getvalue()\n",
    "\n",
    "    # Encode to base64\n",
    "    return base64.b64encode(image_bytes).decode(\"utf-8\")\n",
    "\n",
    "\n",
    "base64_image = encode_image(dataset[\"train\"][0][\"image\"].resize((600, 800)))"
   ]
  },
  {
   "cell_type": "code",
   "execution_count": 116,
   "metadata": {},
   "outputs": [],
   "source": [
    "extraction_system_prompt = \"\"\"You are a helpful assistant for data extraction from invoices. \n",
    "You'll be given an invoice and your task is to exract data from it according to the JSON schema.\"\"\"\n",
    "\n",
    "extraction_generation_prompt = \"Please extract the invoice data from the attached image according to the provided JSON schema.\""
   ]
  },
  {
   "cell_type": "code",
   "execution_count": 117,
   "metadata": {},
   "outputs": [],
   "source": [
    "client = OpenAI(\n",
    "    base_url=\"https://api.studio.nebius.com/v1/\",\n",
    "    api_key=os.getenv(\"NEBIUS_API_KEY\"),\n",
    ")\n",
    "\n",
    "completion = client.chat.completions.create(\n",
    "    model=\"Qwen/Qwen2.5-VL-72B-Instruct\",\n",
    "    messages=[\n",
    "        {\"role\": \"system\", \"content\": extraction_system_prompt},\n",
    "        {\n",
    "            \"role\": \"user\",\n",
    "            \"content\": [\n",
    "                {\n",
    "                    \"type\": \"text\",\n",
    "                    \"text\": extraction_generation_prompt,\n",
    "                },\n",
    "                {\"type\": \"image_url\", \"image_url\": {\"url\": f\"data:image/jpeg;base64,{base64_image}\"}},\n",
    "            ],\n",
    "        },\n",
    "    ],\n",
    "    extra_body={\"guided_json\": Invoice.model_json_schema()},\n",
    ")"
   ]
  },
  {
   "cell_type": "code",
   "execution_count": 118,
   "metadata": {},
   "outputs": [
    {
     "name": "stdout",
     "output_type": "stream",
     "text": [
      "{'client': 'Jackson, Odonnell and Jackson',\n",
      " 'client_tax_id': '998-87-7723',\n",
      " 'iban': 'GB77WRBQ31965128414006',\n",
      " 'invoice_date': '2012-10-15T00:00:00Z',\n",
      " 'invoice_no': '40378170',\n",
      " 'items': [{'item_desc': \"Leed's Wine Companion Bottle Corkscrew Opener Gift \"\n",
      "                         'Box Set with Foil Cutter',\n",
      "            'item_gross_worth': 8.25,\n",
      "            'item_net_price': 7.5,\n",
      "            'item_net_worth': 7.5,\n",
      "            'item_qty': 1,\n",
      "            'item_vat': '10%'}],\n",
      " 'seller': 'Patel, Thompson and Montgomery',\n",
      " 'seller_tax_id': '958-74-3511'}\n"
     ]
    }
   ],
   "source": [
    "from pprint import pprint\n",
    "\n",
    "pprint(parse_completion(completion))"
   ]
  },
  {
   "cell_type": "markdown",
   "metadata": {},
   "source": [
    "# Structured Outputs for RAG Metadata Generation"
   ]
  },
  {
   "cell_type": "markdown",
   "metadata": {},
   "source": [
    "## 1. Import Haystack components"
   ]
  },
  {
   "cell_type": "code",
   "execution_count": 119,
   "metadata": {},
   "outputs": [],
   "source": [
    "from haystack import Pipeline\n",
    "from haystack.components.embedders import (\n",
    "    SentenceTransformersDocumentEmbedder,\n",
    "    SentenceTransformersTextEmbedder,\n",
    ")\n",
    "from haystack.components.retrievers.in_memory import InMemoryEmbeddingRetriever\n",
    "from haystack.components.writers import DocumentWriter\n",
    "from haystack.dataclasses import Document\n",
    "from haystack.document_stores.in_memory import InMemoryDocumentStore"
   ]
  },
  {
   "cell_type": "markdown",
   "metadata": {},
   "source": [
    "## 2. Prepare documents"
   ]
  },
  {
   "cell_type": "markdown",
   "metadata": {},
   "source": [
    "### TechCrunch Articles"
   ]
  },
  {
   "cell_type": "markdown",
   "metadata": {},
   "source": [
    "**Notice: The following data is generated via o3 by OpenAI, it can contain hallucinations, but it is not the case for this tutorial.**"
   ]
  },
  {
   "cell_type": "code",
   "execution_count": 120,
   "metadata": {},
   "outputs": [],
   "source": [
    "documents = [\n",
    "    # Data for May\n",
    "    Document(\n",
    "        content=\"Google quietly released an app that lets you download and run AI models locally\",\n",
    "        meta={\n",
    "            \"date\": \"31-05-2025\",\n",
    "            \"source\": \"tech_crunch\",\n",
    "            \"link\": \"https://techcrunch.com/2025/05/31/google-quietly-released-an-app-that-lets-you-download-and-run-ai-models-locally/\",\n",
    "        },\n",
    "    ),\n",
    "    Document(\n",
    "        content=\"Left-leaning influencers embrace Bluesky without abandoning X, Pew says\",\n",
    "        meta={\n",
    "            \"date\": \"31-05-2025\",\n",
    "            \"source\": \"tech_crunch\",\n",
    "            \"link\": \"https://techcrunch.com/2025/05/31/left-leaning-influencers-embrace-bluesky-without-abandoning-x-pew-says/\",\n",
    "        },\n",
    "    ),\n",
    "    Document(\n",
    "        content=\"NAACP calls on Memphis officials to halt operations at xAI’s ‘dirty data center’\",\n",
    "        meta={\n",
    "            \"date\": \"31-05-2025\",\n",
    "            \"source\": \"tech_crunch\",\n",
    "            \"link\": \"https://techcrunch.com/2025/05/31/naacp-calls-on-officials-to-halt-operations-at-xais-dirty-data-center-in-memphis/\",\n",
    "        },\n",
    "    ),\n",
    "    Document(\n",
    "        content=\"Report: Elon Musk’s drug use ramped up during the 2024 presidential campaign\",\n",
    "        meta={\n",
    "            \"date\": \"30-05-2025\",\n",
    "            \"source\": \"tech_crunch\",\n",
    "            \"link\": \"https://techcrunch.com/2025/05/30/report-elon-musks-drug-use-ramped-up-during-the-2024-presidential-campaign/\",\n",
    "        },\n",
    "    ),\n",
    "    Document(\n",
    "        content=\"It’s not your imagination: AI is speeding up the pace of change\",\n",
    "        meta={\n",
    "            \"date\": \"30-05-2025\",\n",
    "            \"source\": \"tech_crunch\",\n",
    "            \"link\": \"https://techcrunch.com/2025/05/30/its-not-your-imagination-ai-is-speeding-up-the-pace-of-change/\",\n",
    "        },\n",
    "    ),\n",
    "    Document(\n",
    "        content=(\n",
    "            \"TechCrunch Mobility: A ride-sharing pioneer comes for Uber, \"\n",
    "            \"Tesla loses more ground, and dog-like delivery robots land in Texas\"\n",
    "        ),\n",
    "        meta={\n",
    "            \"date\": \"30-05-2025\",\n",
    "            \"source\": \"tech_crunch\",\n",
    "            \"link\": \"https://techcrunch.com/2025/05/30/techcrunch-mobility-a-ride-sharing-pioneer-comes-for-uber-tesla-loses-more-ground-and-dog-like-delivery-robots-land-in-texas/\",\n",
    "        },\n",
    "    ),\n",
    "    Document(\n",
    "        content=\"Trump administration to claw back $3.7B in clean energy and manufacturing awards\",\n",
    "        meta={\n",
    "            \"date\": \"30-05-2025\",\n",
    "            \"source\": \"tech_crunch\",\n",
    "            \"link\": \"https://techcrunch.com/2025/05/30/trump-administration-to-claw-back-3-7b-in-clean-energy-and-manufacturing-awards/\",\n",
    "        },\n",
    "    ),\n",
    "    Document(\n",
    "        content=\"Automattic says it will start contributing to WordPress again after pause\",\n",
    "        meta={\n",
    "            \"date\": \"30-05-2025\",\n",
    "            \"source\": \"tech_crunch\",\n",
    "            \"link\": \"https://techcrunch.com/2025/05/30/automattic-says-it-will-start-contributing-to-wordpress-again-after-pause/\",\n",
    "        },\n",
    "    ),\n",
    "    Document(\n",
    "        content=\"Perplexity’s new tool can generate spreadsheets, dashboards, and more\",\n",
    "        meta={\n",
    "            \"date\": \"29-05-2025\",\n",
    "            \"source\": \"tech_crunch\",\n",
    "            \"link\": \"https://techcrunch.com/2025/05/29/perplexitys-new-tool-can-generate-spreadsheets-dashboards-and-more/\",\n",
    "        },\n",
    "    ),\n",
    "    Document(\n",
    "        content=\"Delaware attorney general reportedly hires a bank to evaluate OpenAI’s restructuring plan\",\n",
    "        meta={\n",
    "            \"date\": \"29-05-2025\",\n",
    "            \"source\": \"tech_crunch\",\n",
    "            \"link\": \"https://techcrunch.com/2025/05/29/delaware-attorney-general-reportedly-hires-a-bank-to-evaluate-openais-restructuring-plan/\",\n",
    "        },\n",
    "    ),\n",
    "    # Data for April\n",
    "    Document(\n",
    "        content=\"Microsoft’s most capable new Phi 4 AI model rivals the performance of far larger systems\",\n",
    "        meta={\n",
    "            \"date\": \"30-04-2025\",\n",
    "            \"source\": \"tech_crunch\",\n",
    "            \"link\": \"https://techcrunch.com/2025/04/30/microsofts-most-capable-new-phi-4-ai-model-rivals-the-performance-of-far-larger-systems/\",\n",
    "        },\n",
    "    ),\n",
    "    Document(\n",
    "        content=\"Sam Altman’s World unveils a mobile verification device\",\n",
    "        meta={\n",
    "            \"date\": \"30-04-2025\",\n",
    "            \"source\": \"tech_crunch\",\n",
    "            \"link\": \"https://techcrunch.com/2025/04/30/sam-altmans-world-unveils-a-mobile-verification-device/\",\n",
    "        },\n",
    "    ),\n",
    "    Document(\n",
    "        content=\"Epic Games just scored a major win against Apple\",\n",
    "        meta={\n",
    "            \"date\": \"30-04-2025\",\n",
    "            \"source\": \"tech_crunch\",\n",
    "            \"link\": \"https://techcrunch.com/2025/04/30/epic-games-just-scored-a-major-win-against-apple/\",\n",
    "        },\n",
    "    ),\n",
    "    Document(\n",
    "        content=\"Amazon launches Nova Premier, its most capable AI model yet\",\n",
    "        meta={\n",
    "            \"date\": \"30-04-2025\",\n",
    "            \"source\": \"tech_crunch\",\n",
    "            \"link\": \"https://techcrunch.com/2025/04/30/amazon-launches-nova-premier-its-largest-ai-model-yet/\",\n",
    "        },\n",
    "    ),\n",
    "    Document(\n",
    "        content=\"Meta forecasted it would make $1.4 T in revenue from generative AI by 2035\",\n",
    "        meta={\n",
    "            \"date\": \"30-04-2025\",\n",
    "            \"source\": \"tech_crunch\",\n",
    "            \"link\": \"https://techcrunch.com/2025/04/30/meta-forecasted-it-would-make-1-4t-in-revenue-from-generative-ai-by-2035/\",\n",
    "        },\n",
    "    ),\n",
    "    Document(\n",
    "        content=\"Google’s Gemini chatbot gets upgraded image-creation tools\",\n",
    "        meta={\n",
    "            \"date\": \"30-04-2025\",\n",
    "            \"source\": \"tech_crunch\",\n",
    "            \"link\": \"https://techcrunch.com/2025/04/30/googles-gemini-chatbot-gets-upgraded-image-creation-tools/\",\n",
    "        },\n",
    "    ),\n",
    "    Document(\n",
    "        content=\"Visa and Mastercard unveil AI-powered shopping\",\n",
    "        meta={\n",
    "            \"date\": \"30-04-2025\",\n",
    "            \"source\": \"tech_crunch\",\n",
    "            \"link\": \"https://techcrunch.com/2025/04/30/visa-and-mastercard-unveil-ai-powered-shopping/\",\n",
    "        },\n",
    "    ),\n",
    "    Document(\n",
    "        content=\"Musk’s xAI Holdings is reportedly raising the second-largest private funding round ever\",\n",
    "        meta={\n",
    "            \"date\": \"25-04-2025\",\n",
    "            \"source\": \"tech_crunch\",\n",
    "            \"link\": \"https://techcrunch.com/2025/04/25/musks-xai-holdings-is-reportedly-raising-the-second-largest-private-funding-round-ever/\",\n",
    "        },\n",
    "    ),\n",
    "    Document(\n",
    "        content=\"Noxtua raises $92 M for its sovereign AI tuned for the German legal system\",\n",
    "        meta={\n",
    "            \"date\": \"22-04-2025\",\n",
    "            \"source\": \"tech_crunch\",\n",
    "            \"link\": \"https://techcrunch.com/2025/04/22/noxtua-raises-92m-for-its-sovereign-ai-tuned-for-the-german-legal-system/\",\n",
    "        },\n",
    "    ),\n",
    "    Document(\n",
    "        content=\"ChatGPT adoption skyrockets in India, but monetization may be trailing\",\n",
    "        meta={\n",
    "            \"date\": \"04-04-2025\",\n",
    "            \"source\": \"tech_crunch\",\n",
    "            \"link\": \"https://techcrunch.com/2025/04/04/chatgpt-adoption-skyrockets-in-india-but-monetization-may-be-trailing/\",\n",
    "        },\n",
    "    ),\n",
    "]"
   ]
  },
  {
   "cell_type": "markdown",
   "metadata": {},
   "source": [
    "### OpenAI Research Blog"
   ]
  },
  {
   "cell_type": "markdown",
   "metadata": {},
   "source": [
    "**Notice: The following data is generated via o3 by OpenAI, it can contain hallucinations, but it is not the case for this tutorial.**"
   ]
  },
  {
   "cell_type": "code",
   "execution_count": 121,
   "metadata": {},
   "outputs": [],
   "source": [
    "documents += [\n",
    "    Document(\n",
    "        content=\"Addendum to OpenAI o3 and o4-mini system card: OpenAI o3 Operator\",\n",
    "        meta={\n",
    "            \"date\": \"23-05-2025\",\n",
    "            \"source\": \"openai_blog\",\n",
    "            \"link\": \"https://openai.com/index/o3-o4-mini-system-card-addendum-operator-o3\",\n",
    "        },\n",
    "    ),  # :contentReference[oaicite:0]{index=0}\n",
    "    Document(\n",
    "        content=\"Introducing Codex\",\n",
    "        meta={\n",
    "            \"date\": \"16-05-2025\",\n",
    "            \"source\": \"openai_blog\",\n",
    "            \"link\": \"https://openai.com/index/introducing-codex/\",\n",
    "        },\n",
    "    ),  # :contentReference[oaicite:1]{index=1}\n",
    "    Document(\n",
    "        content=\"Addendum to o3 and o4-mini system card: Codex\",\n",
    "        meta={\n",
    "            \"date\": \"16-05-2025\",\n",
    "            \"source\": \"openai_blog\",\n",
    "            \"link\": \"https://openai.com/index/o3-o4-mini-codex-system-card-addendum/\",\n",
    "        },\n",
    "    ),  # :contentReference[oaicite:2]{index=2}\n",
    "    Document(\n",
    "        content=\"Introducing HealthBench\",\n",
    "        meta={\n",
    "            \"date\": \"12-05-2025\",\n",
    "            \"source\": \"openai_blog\",\n",
    "            \"link\": \"https://openai.com/index/healthbench/\",\n",
    "        },\n",
    "    ),  # :contentReference[oaicite:3]{index=3}\n",
    "    Document(\n",
    "        content=\"Thinking with images\",\n",
    "        meta={\n",
    "            \"date\": \"16-04-2025\",\n",
    "            \"source\": \"openai_blog\",\n",
    "            \"link\": \"https://openai.com/index/thinking-with-images/\",\n",
    "        },\n",
    "    ),  # :contentReference[oaicite:4]{index=4}\n",
    "    Document(\n",
    "        content=\"OpenAI o3 and o4-mini System Card\",\n",
    "        meta={\n",
    "            \"date\": \"16-04-2025\",\n",
    "            \"source\": \"openai_blog\",\n",
    "            \"link\": \"https://openai.com/index/o3-o4-mini-system-card/\",\n",
    "        },\n",
    "    ),  # :contentReference[oaicite:5]{index=5}\n",
    "    Document(\n",
    "        content=\"Introducing OpenAI o3 and o4-mini\",\n",
    "        meta={\n",
    "            \"date\": \"16-04-2025\",\n",
    "            \"source\": \"openai_blog\",\n",
    "            \"link\": \"https://openai.com/index/introducing-o3-and-o4-mini/\",\n",
    "        },\n",
    "    ),  # :contentReference[oaicite:6]{index=6}\n",
    "    Document(\n",
    "        content=\"Our updated Preparedness Framework\",\n",
    "        meta={\n",
    "            \"date\": \"15-04-2025\",\n",
    "            \"source\": \"openai_blog\",\n",
    "            \"link\": \"https://openai.com/index/updating-our-preparedness-framework/\",\n",
    "        },\n",
    "    ),  # :contentReference[oaicite:7]{index=7}\n",
    "    Document(\n",
    "        content=\"Introducing GPT-4.1 in the API\",\n",
    "        meta={\n",
    "            \"date\": \"14-04-2025\",\n",
    "            \"source\": \"openai_blog\",\n",
    "            \"link\": \"https://openai.com/index/gpt-4-1/\",\n",
    "        },\n",
    "    ),  # :contentReference[oaicite:8]{index=8}\n",
    "    Document(\n",
    "        content=\"BrowseComp: a benchmark for browsing agents\",\n",
    "        meta={\n",
    "            \"date\": \"10-04-2025\",\n",
    "            \"source\": \"openai_blog\",\n",
    "            \"link\": \"https://openai.com/index/browsecomp/\",\n",
    "        },\n",
    "    ),  # :contentReference[oaicite:9]{index=9}\n",
    "]"
   ]
  },
  {
   "cell_type": "markdown",
   "metadata": {},
   "source": [
    "## 3. Creating InMemoryDocumentStore"
   ]
  },
  {
   "cell_type": "markdown",
   "metadata": {},
   "source": [
    "Let's set up a document indexing pipeline using an in-memory document store and a sentence transformer embedder.\n",
    "It embeds documents into vector representations and writes them to the store, enabling efficient similarity search.\n",
    "The pipeline is then run to process and store the provided documents."
   ]
  },
  {
   "cell_type": "code",
   "execution_count": 122,
   "metadata": {},
   "outputs": [
    {
     "name": "stderr",
     "output_type": "stream",
     "text": [
      "Batches: 100%|██████████| 1/1 [00:00<00:00,  3.79it/s]\n"
     ]
    },
    {
     "data": {
      "text/plain": [
       "{'writer': {'documents_written': 30}}"
      ]
     },
     "execution_count": 122,
     "metadata": {},
     "output_type": "execute_result"
    }
   ],
   "source": [
    "document_store = InMemoryDocumentStore(embedding_similarity_function=\"cosine\")\n",
    "\n",
    "indexing_pipeline = Pipeline()\n",
    "indexing_pipeline.add_component(\n",
    "    \"embedder\",\n",
    "    SentenceTransformersDocumentEmbedder(model=\"sentence-transformers/all-MiniLM-L6-v2\"),\n",
    ")\n",
    "indexing_pipeline.add_component(\"writer\", DocumentWriter(document_store=document_store))\n",
    "indexing_pipeline.connect(\"embedder\", \"writer\")\n",
    "\n",
    "# Run the indexing pipeline\n",
    "indexing_pipeline.run({\"embedder\": {\"documents\": documents}})"
   ]
  },
  {
   "cell_type": "markdown",
   "metadata": {},
   "source": [
    "## 4. Define QueryMetadata Structure "
   ]
  },
  {
   "cell_type": "code",
   "execution_count": 123,
   "metadata": {},
   "outputs": [],
   "source": [
    "from typing import Literal\n",
    "from pydantic import Field, BaseModel\n",
    "\n",
    "\n",
    "class QueryMetadata(BaseModel):\n",
    "    start_date: str = Field(\n",
    "        None,\n",
    "        description=(\n",
    "            \"The start date of a potential time range, extracted from the user's query. The format should be DD-MM-YYYY.\"\n",
    "        ),\n",
    "    )\n",
    "    end_date: str = Field(\n",
    "        description=(\n",
    "            \"The end date of a potential time range, extracted from the user's query. The format should be DD-MM-YYYY.\"\n",
    "        ),\n",
    "    )\n",
    "    source: Literal[\"tech_crunch\", \"openai_blog\"]"
   ]
  },
  {
   "cell_type": "code",
   "execution_count": 124,
   "metadata": {},
   "outputs": [],
   "source": [
    "metadata_system_prompt = \"\"\"\n",
    "You are an information extraction system that analyzes natural language queries and extracts metadata in a specific JSON format.\n",
    "\n",
    "Your task is to extract the following metadata fields:\n",
    "- start_date: string in \"DD-MM-YYYY\" format (e.g., \"01-01-2024\")\n",
    "- end_date: string in \"DD-MM-YYYY\" format (e.g., \"31-12-2024\")\n",
    "- source: one of [\"tech_crunch\", \"openai_blog\"]\n",
    "\n",
    "Rules:\n",
    "- If a field is not present in the query, set its value to null.\n",
    "- Use only the allowed values for 'source'.\n",
    "- Always return only a valid JSON object. Do not include any explanation or extra text.\n",
    "\"\"\"\n",
    "\n",
    "metadata_generation_prompt = \"User Query: {query}\\n\\nExtract the metadata as specified.\""
   ]
  },
  {
   "cell_type": "code",
   "execution_count": 125,
   "metadata": {},
   "outputs": [],
   "source": [
    "def generate_query_metadata(query: str) -> dict[str, any]:\n",
    "    completion = client.chat.completions.create(\n",
    "        model=\"Qwen/Qwen2.5-72B-Instruct\",\n",
    "        messages=[\n",
    "            {\"role\": \"system\", \"content\": metadata_system_prompt},\n",
    "            {\n",
    "                \"role\": \"user\",\n",
    "                \"content\": metadata_generation_prompt.format(query=query),\n",
    "            },\n",
    "        ],\n",
    "        temperature=0.0,\n",
    "        extra_body={\"guided_json\": QueryMetadata.model_json_schema()},\n",
    "    )\n",
    "\n",
    "    parsed_metadata = parse_completion(completion)\n",
    "\n",
    "    return parsed_metadata"
   ]
  },
  {
   "cell_type": "code",
   "execution_count": 126,
   "metadata": {},
   "outputs": [
    {
     "name": "stdout",
     "output_type": "stream",
     "text": [
      "User Query: Find me top 3 TechCrunch articles from April 2025\n",
      "\n",
      "Extract the metadata as specified.\n",
      "\n",
      "{'start_date': '01-04-2025', 'end_date': '30-04-2025', 'source': 'tech_crunch'}\n"
     ]
    }
   ],
   "source": [
    "query = \"Find me top 3 TechCrunch articles from April 2025\"\n",
    "\n",
    "print(metadata_generation_prompt.format(query=query) + \"\\n\")\n",
    "print(generate_query_metadata(query))"
   ]
  },
  {
   "cell_type": "markdown",
   "metadata": {},
   "source": [
    "## 5. Define the RAG Pipeline with Structured Output\n",
    "This is where we'll build the main pipeline that uses the LLM to generate\n",
    "structured metadata from the user's query and then uses that metadata to\n",
    "filter the documents during the search operation.\n",
    "\n",
    "The prompt template instructs the LLM to extract the metadata and provides\n",
    "the JSON schema for the output. This is crucial for getting the structured output."
   ]
  },
  {
   "cell_type": "markdown",
   "metadata": {},
   "source": [
    "### Prepare filters"
   ]
  },
  {
   "cell_type": "code",
   "execution_count": 127,
   "metadata": {},
   "outputs": [],
   "source": [
    "def prepare_filters(extracted_metadata: dict[str, any]):\n",
    "    filters = {}\n",
    "    conditions = []\n",
    "\n",
    "    if extracted_metadata[\"source\"]:\n",
    "        conditions.append(\n",
    "            {\n",
    "                \"field\": \"source\",\n",
    "                \"operator\": \"==\",\n",
    "                \"value\": extracted_metadata[\"source\"],\n",
    "            }\n",
    "        )\n",
    "\n",
    "    if extracted_metadata[\"start_date\"] and extracted_metadata[\"end_date\"]:\n",
    "        conditions.append(\n",
    "            {\n",
    "                \"field\": \"date\",\n",
    "                \"operator\": \">=\",\n",
    "                \"value\": extracted_metadata[\"start_date\"],\n",
    "            }\n",
    "        )\n",
    "        conditions.append(\n",
    "            {\n",
    "                \"field\": \"date\",\n",
    "                \"operator\": \"<=\",\n",
    "                \"value\": extracted_metadata[\"end_date\"],\n",
    "            }\n",
    "        )\n",
    "    elif extracted_metadata[\"start_date\"]:\n",
    "        conditions.append(\n",
    "            {\n",
    "                \"field\": \"date\",\n",
    "                \"operator\": \">=\",\n",
    "                \"value\": extracted_metadata[\"start_date\"],\n",
    "            }\n",
    "        )\n",
    "    elif extracted_metadata[\"end_date\"]:\n",
    "        conditions.append(\n",
    "            {\n",
    "                \"field\": \"date\",\n",
    "                \"operator\": \"<=\",\n",
    "                \"value\": extracted_metadata[\"end_date\"],\n",
    "            }\n",
    "        )\n",
    "\n",
    "    if conditions:\n",
    "        filters = {\"operator\": \"AND\", \"conditions\": conditions}\n",
    "\n",
    "    return filters"
   ]
  },
  {
   "cell_type": "markdown",
   "metadata": {},
   "source": [
    "### Pipeline"
   ]
  },
  {
   "cell_type": "code",
   "execution_count": 128,
   "metadata": {},
   "outputs": [],
   "source": [
    "def run_query(query: str):\n",
    "    \"\"\"\n",
    "    This function runs the RAG pipeline for a given query.\n",
    "    It first generates the structured metadata and then uses it to retrieve documents.\n",
    "    \"\"\"\n",
    "    print(f\"Running query: '{query}'\")\n",
    "\n",
    "    extracted_metadata = generate_query_metadata(query)\n",
    "\n",
    "    print(\"[1] Extracted Metadata:\\n\")\n",
    "    print(extracted_metadata)\n",
    "\n",
    "    print(\"2] Prepare Filters and Run Query:\\n\")\n",
    "    filters = prepare_filters(extracted_metadata=extracted_metadata)\n",
    "\n",
    "    text_embedder = SentenceTransformersTextEmbedder(model=\"sentence-transformers/all-MiniLM-L6-v2\")\n",
    "    retriever = InMemoryEmbeddingRetriever(document_store=document_store, top_k=3, filters=filters)\n",
    "\n",
    "    retrieval_pipeline = Pipeline()\n",
    "    retrieval_pipeline.add_component(\"text_embedder\", text_embedder)\n",
    "    retrieval_pipeline.add_component(\"retriever\", retriever)\n",
    "    retrieval_pipeline.connect(\"text_embedder.embedding\", \"retriever.query_embedding\")\n",
    "\n",
    "    retrieval_result = retrieval_pipeline.run({\"text_embedder\": {\"text\": query}})\n",
    "\n",
    "    print(\"\\n[3] Retrieved Documents:\")\n",
    "    for doc in retrieval_result[\"retriever\"][\"documents\"]:\n",
    "        print(f\"  - {doc.content} (Source: {doc.meta['source']}, \" f\"Date: {doc.meta['date']})\")"
   ]
  },
  {
   "cell_type": "code",
   "execution_count": 131,
   "metadata": {},
   "outputs": [
    {
     "name": "stdout",
     "output_type": "stream",
     "text": [
      "Running query: 'Find me 3 oldest TechCrunch articles from April 2025'\n",
      "[1] Extracted Metadata:\n",
      "\n",
      "{'start_date': '01-04-2025', 'end_date': '30-04-2025', 'source': 'tech_crunch'}\n",
      "2] Prepare Filters and Run Query:\n",
      "\n"
     ]
    },
    {
     "name": "stderr",
     "output_type": "stream",
     "text": [
      "Batches: 100%|██████████| 1/1 [00:00<00:00, 17.14it/s]"
     ]
    },
    {
     "name": "stdout",
     "output_type": "stream",
     "text": [
      "\n",
      "[3] Retrieved Documents:\n",
      "  - Meta forecasted it would make $1.4 T in revenue from generative AI by 2035 (Source: tech_crunch, Date: 30-04-2025)\n",
      "  - Microsoft’s most capable new Phi 4 AI model rivals the performance of far larger systems (Source: tech_crunch, Date: 30-04-2025)\n",
      "  - Amazon launches Nova Premier, its most capable AI model yet (Source: tech_crunch, Date: 30-04-2025)\n"
     ]
    },
    {
     "name": "stderr",
     "output_type": "stream",
     "text": [
      "\n"
     ]
    }
   ],
   "source": [
    "query = \"Find me 3 oldest TechCrunch articles from April 2025\"\n",
    "\n",
    "run_query(query)"
   ]
  },
  {
   "cell_type": "code",
   "execution_count": 74,
   "metadata": {},
   "outputs": [],
   "source": [
    "query = \"Find me 3 latest articles from OpenAI's Research blog\"\n",
    "\n",
    "# run_query(query)"
   ]
  },
  {
   "cell_type": "markdown",
   "metadata": {},
   "source": [
    "# SO + Chain of Thought "
   ]
  },
  {
   "cell_type": "code",
   "execution_count": 134,
   "metadata": {},
   "outputs": [],
   "source": [
    "from pydantic import Field, BaseModel\n",
    "from typing import List\n",
    "\n",
    "\n",
    "class AnswerSchema(BaseModel):\n",
    "    step_by_step_analysis: str = Field(\n",
    "        description=\"Detailed step-by-step analysis of the answer with at least 5 steps and at least 150 words. Always do this step exactly as prompted.\"\n",
    "    )\n",
    "\n",
    "    reasoning_summary: str = Field(description=\"Concise summary of the step-by-step reasoning process. Around 50 words.\")\n",
    "\n",
    "    relevant_chunks: List[int] = Field(\n",
    "        description=\"\"\"\n",
    "            List of page chunks containing information directly used to answer the question. Include only:\n",
    "            - Chunk with direct answers or explicit statements\n",
    "            - Chunks with key information that strongly supports the answer\n",
    "            Do not include chunks with only tangentially related information or weak connections to the answer.\n",
    "            At least one chunk should be included in the list.\n",
    "        \"\"\"\n",
    "    )\n",
    "\n",
    "    final_answer: str"
   ]
  },
  {
   "cell_type": "code",
   "execution_count": 135,
   "metadata": {},
   "outputs": [
    {
     "name": "stderr",
     "output_type": "stream",
     "text": [
      "No abbreviations file found for en. Using default abbreviations.\n"
     ]
    },
    {
     "name": "stderr",
     "output_type": "stream",
     "text": [
      "Batches: 100%|██████████| 3/3 [00:01<00:00,  2.56it/s]\n"
     ]
    },
    {
     "data": {
      "text/plain": [
       "{'writer': {'documents_written': 71}}"
      ]
     },
     "execution_count": 135,
     "metadata": {},
     "output_type": "execute_result"
    }
   ],
   "source": [
    "from pathlib import Path\n",
    "from haystack import Pipeline\n",
    "from haystack.document_stores.in_memory import InMemoryDocumentStore\n",
    "from haystack.components.converters import HTMLToDocument\n",
    "from haystack.components.preprocessors import DocumentCleaner\n",
    "from haystack.components.preprocessors import DocumentSplitter\n",
    "from haystack.components.writers import DocumentWriter\n",
    "\n",
    "document_store = InMemoryDocumentStore()\n",
    "\n",
    "pipeline = Pipeline()\n",
    "pipeline.add_component(\"converter\", HTMLToDocument())\n",
    "pipeline.add_component(\"splitter\", DocumentSplitter(split_by=\"sentence\", split_length=3))\n",
    "pipeline.add_component(\"embedder\", SentenceTransformersDocumentEmbedder(model=\"sentence-transformers/all-MiniLM-L6-v2\"))\n",
    "pipeline.add_component(\"writer\", DocumentWriter(document_store=document_store))\n",
    "pipeline.connect(\"converter\", \"splitter\")\n",
    "pipeline.connect(\"splitter\", \"embedder\")\n",
    "pipeline.connect(\"embedder\", \"writer\")\n",
    "\n",
    "pipeline.run({\"converter\": {\"sources\": [Path(\"./data/How much do language models memorize?.html\")]}})"
   ]
  },
  {
   "cell_type": "code",
   "execution_count": 136,
   "metadata": {},
   "outputs": [
    {
     "data": {
      "text/plain": [
       "<haystack.core.pipeline.pipeline.Pipeline object at 0x312d59f90>\n",
       "🚅 Components\n",
       "  - text_embedder: SentenceTransformersTextEmbedder\n",
       "  - retriever: InMemoryEmbeddingRetriever\n",
       "🛤️ Connections\n",
       "  - text_embedder.embedding -> retriever.query_embedding (List[float])"
      ]
     },
     "execution_count": 136,
     "metadata": {},
     "output_type": "execute_result"
    }
   ],
   "source": [
    "text_embedder = SentenceTransformersTextEmbedder(model=\"sentence-transformers/all-MiniLM-L6-v2\")\n",
    "retriever = InMemoryEmbeddingRetriever(document_store=document_store, top_k=10)\n",
    "\n",
    "retrieval_pipeline = Pipeline()\n",
    "retrieval_pipeline.add_component(\"text_embedder\", text_embedder)\n",
    "retrieval_pipeline.add_component(\"retriever\", retriever)\n",
    "retrieval_pipeline.connect(\"text_embedder.embedding\", \"retriever.query_embedding\")"
   ]
  },
  {
   "cell_type": "code",
   "execution_count": 137,
   "metadata": {},
   "outputs": [
    {
     "name": "stderr",
     "output_type": "stream",
     "text": [
      "Batches: 100%|██████████| 1/1 [00:00<00:00, 22.59it/s]\n"
     ]
    }
   ],
   "source": [
    "query = \"\"\"\n",
    "How do models define, measure, and differentiate between intended and unintended memorisation?\n",
    "\"\"\"\n",
    "\n",
    "retrieval_result = retrieval_pipeline.run({\"text_embedder\": {\"text\": query}})"
   ]
  },
  {
   "cell_type": "code",
   "execution_count": 138,
   "metadata": {},
   "outputs": [],
   "source": [
    "strs = \"\"\n",
    "\n",
    "for doc in retrieval_result[\"retriever\"][\"documents\"]:\n",
    "    strs += f\"Chunk: {doc.meta['split_id']}, Content: {doc.content}\\n\""
   ]
  },
  {
   "cell_type": "code",
   "execution_count": 140,
   "metadata": {},
   "outputs": [
    {
     "name": "stdout",
     "output_type": "stream",
     "text": [
      "Chunk: 27, Content: Hence, we can define unintended memorization as\n",
      "and then the generalization (or intended memorization) must be\n",
      "Now that we have defined our notions of intended and unintended memorization we turn our attention to practically measuring them. Let us first state a proposition that enables measurement of unintended memorization:\n",
      "Proposition 1 (Super-additivity of Unintended Memorization).\n",
      "Assume is a dataset of i.i.d. \n",
      "Chunk: 26, Content: To understand how much information about is stored in , we can use the notion of mutual information:\n",
      "Note that this captures all the information about that is stored in . As we discussed, we need our notion of memorization to account for generalization as well. So when measuring unintended memorization, we are only interested in the information that is present in , which is the uncertainty left in after fixing . \n",
      "Chunk: 18, Content: Our notion of unintended memorization must be distinct from intended memorization, which we refer to as generalization. For example, consider a language model trained on the sample: Q: What is ? A: 1267650600228229401496703205376. \n",
      "Chunk: 17, Content: 2 Memorization, intended and unintended\n",
      "When a model is trained using a training algorithm and a dataset , some information is transferred from the sample to the model . A key question in the memorization literature is determining how much of this stored information is intended versus unintended. In this work, we aim to provide a rigorous definition of memorization that satisfies certain properties:\n",
      "-\n",
      "1.\n",
      "Separation from generalization. \n",
      "Chunk: 33, Content: , 2017; Tänzer et al., 2022).\n",
      "Here, we discuss other definitions of memorization.\n",
      "\n",
      "Chunk: 40, Content: Specifically, when trying to understand the extent of memorization of a sample in a model they measure some notion of complexity for the task of eliciting the model to output . Although these notions are great in that they only take a model and a sample , they still do not account for generalization. Considering our running example of the following training sample: \"What is ? (A: )\", this will be identified as highly memorized by almost all of the extraction based notions of memorization. \n",
      "Chunk: 10, Content: This makes them inadequate for measuring memorization for certain instances (e.g. a particular textbook). Theoretical notions of ’influence’ Feldman (2020); Feldman & Zhang (2020) have been proposed to define memorization at the instance level, but they fall short of meeting our needs. \n",
      "Chunk: 37, Content: These issues make these notions not ideal for our case.\n",
      "-\n",
      "•\n",
      "Extraction-based memorization. There are multiple works in the literature (Carlini et al.\n",
      "Chunk: 21, Content: This is crucial for language models, where we often only have access to the final model and target sample.\n",
      "Previous works have attempted to define memorization for machine learning models. We aim to provide precise definitions of memorization that meet our criteria, and offer ways to measure it. \n",
      "Chunk: 0, Content: 1]FAIR at Meta 2]Google DeepMind 3]Cornell University 4]NVIDIA \\correspondenceSaeed Mahloujifar at\n",
      "How much do language models memorize?\n",
      "Abstract\n",
      "We propose a new method for estimating how much a model “knows” about a datapoint and use it to measure the capacity of modern language models. We formally separate memorization into two components: unintended memorization, the information a model contains about a specific dataset, and generalization, the information a model contains about the true data-generation process. \n",
      "\n"
     ]
    }
   ],
   "source": [
    "print(strs)"
   ]
  },
  {
   "cell_type": "code",
   "execution_count": 141,
   "metadata": {},
   "outputs": [],
   "source": [
    "system_prompt = \"You're a helpful AI assistant that answers questions about a scintific paper based on RAG chunks given to you. Always think steb-by-step before answering and follow the schema you are given.\""
   ]
  },
  {
   "cell_type": "code",
   "execution_count": 142,
   "metadata": {},
   "outputs": [],
   "source": [
    "def generate_answer(query: str, context: str) -> dict[str, any]:\n",
    "    completion = client.chat.completions.create(\n",
    "        model=\"Qwen/Qwen2.5-72B-Instruct\",\n",
    "        messages=[\n",
    "            {\"role\": \"system\", \"content\": system_prompt},\n",
    "            {\n",
    "                \"role\": \"user\",\n",
    "                \"content\": f\"Answer this question {query} based on these data points: {context}\",\n",
    "            },\n",
    "        ],\n",
    "        temperature=0.0,\n",
    "        extra_body={\"guided_json\": AnswerSchema.model_json_schema()},\n",
    "    )\n",
    "\n",
    "    parsed_answer = parse_completion(completion)\n",
    "\n",
    "    return parsed_answer"
   ]
  },
  {
   "cell_type": "code",
   "execution_count": 143,
   "metadata": {},
   "outputs": [],
   "source": [
    "query = \"\"\"\n",
    "How do models define, measure, and differentiate between intended and unintended memorisation?\n",
    "\"\"\"\n",
    "\n",
    "parsed_answer = generate_answer(query, strs)"
   ]
  },
  {
   "cell_type": "code",
   "execution_count": 144,
   "metadata": {},
   "outputs": [
    {
     "data": {
      "text/plain": [
       "{'step_by_step_analysis': \"To answer the question 'How do models define, measure, and differentiate between intended and unintended memorisation? ', let's break down the information provided in the chunks step-by-step:\",\n",
       " 'reasoning_summary': \"1. **Definition of Memorization**: Models store information from the training dataset during the training process. The key challenge is to distinguish between intended memorization (generalization) and unintended memorization.\\n2. **Separation from Generalization**: Intended memorization, or generalization, refers to the model's ability to learn patterns and apply them to new, unseen data. Unintended memorization, on the other hand, involves the model retaining specific details from the training data that are not part of the broader patterns.\\n3. **Mutual Information**: One approach to measuring the amount of information stored in a model about a specific dataset is through mutual information. Mutual information captures all the information about the dataset that is stored in the model.\\n4. **Measurement of Unintended Memorization**: To specifically measure unintended memorization, the focus is on the information present in the model that remains uncertain even after fixing the model parameters. This is the residual information that does not contribute to generalization.\\n5. **Proposition 1 (Super-additivity of Unintended Memorization)**: This proposition suggests a method to quantify unintended memorization by considering the additional information retained beyond what is necessary for generalization.\\n6. **Extraction-Based Memorization**: Some previous methods measure memorization by assessing the complexity of eliciting the model to output specific samples. However, these methods do not adequately account for generalization and may incorrectly identify certain instances as highly memorized.\\n7. **Theoretical Notions of Influence**: Other theoretical approaches, such as influence functions, have been proposed to define memorization at the instance level. However, these also fall short in meeting the criteria for distinguishing between intended and unintended memorization.\",\n",
       " 'relevant_chunks': [27, 26, 18, 17, 33, 40, 10, 37, 21, 0],\n",
       " 'final_answer': \"Models define memorization as the information transferred from the training dataset to the model during the training process. They differentiate between intended memorization (generalization) and unintended memorization by ensuring that the definition of memorization accounts for the model's ability to generalize to new data while isolating the specific information retained about the training dataset. To measure unintended memorization, one approach is to use mutual information, which captures the total information about the dataset stored in the model. The measurement focuses on the residual information that remains uncertain even after fixing the model parameters, indicating the specific details retained from the training data. Proposition 1 (Super-additivity of Unintended Memorization) provides a method to quantify this by considering the additional information beyond what is necessary for generalization. Previous extraction-based methods and theoretical notions of influence have limitations in accurately distinguishing between intended and unintended memorization, as they may overestimate the memorization of specific instances without accounting for the broader generalization capabilities of the model.\"}"
      ]
     },
     "execution_count": 144,
     "metadata": {},
     "output_type": "execute_result"
    }
   ],
   "source": [
    "parsed_answer"
   ]
  },
  {
   "cell_type": "code",
   "execution_count": 145,
   "metadata": {},
   "outputs": [
    {
     "name": "stdout",
     "output_type": "stream",
     "text": [
      "{   'final_answer': 'Models define memorization as the information transferred '\n",
      "                    'from the training dataset to the model during the '\n",
      "                    'training process. They differentiate between intended '\n",
      "                    'memorization (generalization) and unintended memorization '\n",
      "                    'by ensuring that the definition of memorization accounts '\n",
      "                    \"for the model's ability to generalize to new data while \"\n",
      "                    'isolating the specific information retained about the '\n",
      "                    'training dataset. To measure unintended memorization, one '\n",
      "                    'approach is to use mutual information, which captures the '\n",
      "                    'total information about the dataset stored in the model. '\n",
      "                    'The measurement focuses on the residual information that '\n",
      "                    'remains uncertain even after fixing the model parameters, '\n",
      "                    'indicating the specific details retained from the '\n",
      "                    'training data. Proposition 1 (Super-additivity of '\n",
      "                    'Unintended Memorization) provides a method to quantify '\n",
      "                    'this by considering the additional information beyond '\n",
      "                    'what is necessary for generalization. Previous '\n",
      "                    'extraction-based methods and theoretical notions of '\n",
      "                    'influence have limitations in accurately distinguishing '\n",
      "                    'between intended and unintended memorization, as they may '\n",
      "                    'overestimate the memorization of specific instances '\n",
      "                    'without accounting for the broader generalization '\n",
      "                    'capabilities of the model.',\n",
      "    'reasoning_summary': '1. **Definition of Memorization**: Models store '\n",
      "                         'information from the training dataset during the '\n",
      "                         'training process. The key challenge is to '\n",
      "                         'distinguish between intended memorization '\n",
      "                         '(generalization) and unintended memorization.\\n'\n",
      "                         '2. **Separation from Generalization**: Intended '\n",
      "                         'memorization, or generalization, refers to the '\n",
      "                         \"model's ability to learn patterns and apply them to \"\n",
      "                         'new, unseen data. Unintended memorization, on the '\n",
      "                         'other hand, involves the model retaining specific '\n",
      "                         'details from the training data that are not part of '\n",
      "                         'the broader patterns.\\n'\n",
      "                         '3. **Mutual Information**: One approach to measuring '\n",
      "                         'the amount of information stored in a model about a '\n",
      "                         'specific dataset is through mutual information. '\n",
      "                         'Mutual information captures all the information '\n",
      "                         'about the dataset that is stored in the model.\\n'\n",
      "                         '4. **Measurement of Unintended Memorization**: To '\n",
      "                         'specifically measure unintended memorization, the '\n",
      "                         'focus is on the information present in the model '\n",
      "                         'that remains uncertain even after fixing the model '\n",
      "                         'parameters. This is the residual information that '\n",
      "                         'does not contribute to generalization.\\n'\n",
      "                         '5. **Proposition 1 (Super-additivity of Unintended '\n",
      "                         'Memorization)**: This proposition suggests a method '\n",
      "                         'to quantify unintended memorization by considering '\n",
      "                         'the additional information retained beyond what is '\n",
      "                         'necessary for generalization.\\n'\n",
      "                         '6. **Extraction-Based Memorization**: Some previous '\n",
      "                         'methods measure memorization by assessing the '\n",
      "                         'complexity of eliciting the model to output specific '\n",
      "                         'samples. However, these methods do not adequately '\n",
      "                         'account for generalization and may incorrectly '\n",
      "                         'identify certain instances as highly memorized.\\n'\n",
      "                         '7. **Theoretical Notions of Influence**: Other '\n",
      "                         'theoretical approaches, such as influence functions, '\n",
      "                         'have been proposed to define memorization at the '\n",
      "                         'instance level. However, these also fall short in '\n",
      "                         'meeting the criteria for distinguishing between '\n",
      "                         'intended and unintended memorization.',\n",
      "    'relevant_chunks': [27, 26, 18, 17, 33, 40, 10, 37, 21, 0],\n",
      "    'step_by_step_analysis': \"To answer the question 'How do models define, \"\n",
      "                             'measure, and differentiate between intended and '\n",
      "                             \"unintended memorisation? ', let's break down the \"\n",
      "                             'information provided in the chunks step-by-step:'}\n"
     ]
    }
   ],
   "source": [
    "from pprint import pprint\n",
    "\n",
    "pprint(parsed_answer, indent=4)"
   ]
  },
  {
   "cell_type": "code",
   "execution_count": null,
   "metadata": {},
   "outputs": [],
   "source": []
  }
 ],
 "metadata": {
  "kernelspec": {
   "display_name": ".venv",
   "language": "python",
   "name": "python3"
  },
  "language_info": {
   "codemirror_mode": {
    "name": "ipython",
    "version": 3
   },
   "file_extension": ".py",
   "mimetype": "text/x-python",
   "name": "python",
   "nbconvert_exporter": "python",
   "pygments_lexer": "ipython3",
   "version": "3.11.10"
  }
 },
 "nbformat": 4,
 "nbformat_minor": 2
}
